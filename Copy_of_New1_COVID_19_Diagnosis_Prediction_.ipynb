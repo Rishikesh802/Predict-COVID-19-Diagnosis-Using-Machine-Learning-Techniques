{
  "cells": [
    {
      "cell_type": "markdown",
      "metadata": {
        "id": "view-in-github",
        "colab_type": "text"
      },
      "source": [
        "<a href=\"https://colab.research.google.com/github/Rishikesh802/Predict-COVID-19-Diagnosis-Using-Machine-Learning-Techniques/blob/main/Copy_of_New1_COVID_19_Diagnosis_Prediction_.ipynb\" target=\"_parent\"><img src=\"https://colab.research.google.com/assets/colab-badge.svg\" alt=\"Open In Colab\"/></a>"
      ]
    },
    {
      "cell_type": "markdown",
      "metadata": {
        "id": "IBDonZAVzUO1"
      },
      "source": [
        "# COVID-19 Diagnosis Prediction Project\n",
        "\n",
        "1 --> Goal: The assignment aims to predict COVID-19 diagnosis based on symptoms\n",
        "and demographic data, utilizing data analysis and machine learning techniques.\n",
        "\n",
        "\n",
        "2 --> How: We use Python and MySQL for data analysis, EDA, feature engineering, and\n",
        "machine learning to predict COVID-19 outcomes.\n",
        "\n",
        "\n",
        "3 --> Why: Our project is crucial for early COVID-19 detection, efficient healthcare"
      ]
    },
    {
      "cell_type": "markdown",
      "source": [
        "# Problem Statement\n",
        "\n",
        "A speedy and accurate diagnosis of COVID-19 is made possible by effective SARS-CoV-2 screening, which can also lessen the burden on healthcare systems. There have been built prediction models that assess the likelihood of infection by combining a number of parameters. These are meant to help medical professionals all over the world treat patients, especially in light of the scarcity of healthcare resources. The current dataset has been downloaded from ABC government website and contains around 2,78,848 individuals who have gone through the RT-PCR test. Data set contains 11 columns, including 8 features suspected to play an important role in the prediction of COVID 19 outcome. Outcome variable is covid result test positive or negative. We have data from 11th March 2020 till 30th April 2020."
      ],
      "metadata": {
        "id": "0oSwfl8p5Lxp"
      }
    },
    {
      "cell_type": "markdown",
      "source": [
        "# Features used in the model:\n",
        "\n",
        "## Basic information:\n",
        "\n",
        "1. ID (Individual ID)\n",
        "\n",
        "2. Sex (male female)\n",
        "\n",
        "3. Age 280 above years (true/false)\n",
        "\n",
        "4. Test date (date when tested for COVID_19)\n",
        "\n",
        "## Symptoms:\n",
        "\n",
        "5. Cough (true/false)\n",
        "\n",
        "6. Fever (true/false)\n",
        "\n",
        "7. Sore throat (true/false)\n",
        "\n",
        "8. Shortness of breath (true /false)\n",
        "\n",
        "9. Headache (true/false)\n",
        "\n",
        "## Other information:\n",
        "\n",
        "10. Known contact with an individual confirmed to have COVID-19 (true / false)\n",
        "\n",
        "## Covid report\n",
        "\n",
        "11. Corona positive or negative"
      ],
      "metadata": {
        "id": "4jkVrh986aRj"
      }
    },
    {
      "cell_type": "code",
      "execution_count": null,
      "metadata": {
        "id": "XCw_Yi70yjvx"
      },
      "outputs": [],
      "source": [
        "# Importing libraries\n",
        "import pandas as pd\n",
        "import numpy as np\n",
        "import matplotlib.pyplot as plt\n",
        "import seaborn as sns\n",
        "\n",
        "# Warning is used to supress the display of warnings\n",
        "import warnings\n",
        "warnings.filterwarnings(\"ignore\")\n",
        "\n",
        "\n",
        "from sklearn.metrics import accuracy_score, precision_score, recall_score, f1_score, confusion_matrix, classification_report\n",
        "\n"
      ]
    },
    {
      "cell_type": "code",
      "execution_count": null,
      "metadata": {
        "id": "p-RHrNDmyj1J"
      },
      "outputs": [],
      "source": [
        "data = pd.read_csv(\"corona_tested_006 (2).csv\")"
      ]
    },
    {
      "cell_type": "code",
      "execution_count": null,
      "metadata": {
        "colab": {
          "base_uri": "https://localhost:8080/",
          "height": 424
        },
        "id": "lFUZT_ljyj4h",
        "outputId": "362590c8-f0e6-48ca-ab75-d7e17b517952"
      },
      "outputs": [
        {
          "output_type": "execute_result",
          "data": {
            "text/plain": [
              "        Ind_ID   Test_date Cough_symptoms  Fever Sore_throat  \\\n",
              "0            1  11-03-2020           TRUE  FALSE        TRUE   \n",
              "1            2  11-03-2020          FALSE   TRUE       FALSE   \n",
              "2            3  11-03-2020          FALSE   TRUE       FALSE   \n",
              "3            4  11-03-2020           TRUE  FALSE       FALSE   \n",
              "4            5  11-03-2020           TRUE  FALSE       FALSE   \n",
              "...        ...         ...            ...    ...         ...   \n",
              "278843  278844  30-04-2020          False  False       False   \n",
              "278844  278845  30-04-2020          False  False       False   \n",
              "278845  278846  30-04-2020          False  False       False   \n",
              "278846  278847  30-04-2020          False  False       False   \n",
              "278847  278848  30-04-2020          False  False       False   \n",
              "\n",
              "       Shortness_of_breath Headache    Corona Age_60_above     Sex  \\\n",
              "0                    FALSE    FALSE  negative         None    None   \n",
              "1                    FALSE    FALSE  positive         None    None   \n",
              "2                    FALSE    FALSE  positive         None    None   \n",
              "3                    FALSE    FALSE  negative         None    None   \n",
              "4                    FALSE    FALSE  negative         None    None   \n",
              "...                    ...      ...       ...          ...     ...   \n",
              "278843               False    False  positive         None    male   \n",
              "278844               False    False  negative         None  female   \n",
              "278845               False    False  negative         None    male   \n",
              "278846               False    False  negative         None    male   \n",
              "278847               False    False  negative         None  female   \n",
              "\n",
              "                 Known_contact  \n",
              "0                       Abroad  \n",
              "1                       Abroad  \n",
              "2                       Abroad  \n",
              "3                       Abroad  \n",
              "4       Contact with confirmed  \n",
              "...                        ...  \n",
              "278843                   Other  \n",
              "278844                   Other  \n",
              "278845                   Other  \n",
              "278846                   Other  \n",
              "278847                   Other  \n",
              "\n",
              "[278848 rows x 11 columns]"
            ],
            "text/html": [
              "\n",
              "  <div id=\"df-64ab7061-b9ee-4204-bb99-274065c1adaf\" class=\"colab-df-container\">\n",
              "    <div>\n",
              "<style scoped>\n",
              "    .dataframe tbody tr th:only-of-type {\n",
              "        vertical-align: middle;\n",
              "    }\n",
              "\n",
              "    .dataframe tbody tr th {\n",
              "        vertical-align: top;\n",
              "    }\n",
              "\n",
              "    .dataframe thead th {\n",
              "        text-align: right;\n",
              "    }\n",
              "</style>\n",
              "<table border=\"1\" class=\"dataframe\">\n",
              "  <thead>\n",
              "    <tr style=\"text-align: right;\">\n",
              "      <th></th>\n",
              "      <th>Ind_ID</th>\n",
              "      <th>Test_date</th>\n",
              "      <th>Cough_symptoms</th>\n",
              "      <th>Fever</th>\n",
              "      <th>Sore_throat</th>\n",
              "      <th>Shortness_of_breath</th>\n",
              "      <th>Headache</th>\n",
              "      <th>Corona</th>\n",
              "      <th>Age_60_above</th>\n",
              "      <th>Sex</th>\n",
              "      <th>Known_contact</th>\n",
              "    </tr>\n",
              "  </thead>\n",
              "  <tbody>\n",
              "    <tr>\n",
              "      <th>0</th>\n",
              "      <td>1</td>\n",
              "      <td>11-03-2020</td>\n",
              "      <td>TRUE</td>\n",
              "      <td>FALSE</td>\n",
              "      <td>TRUE</td>\n",
              "      <td>FALSE</td>\n",
              "      <td>FALSE</td>\n",
              "      <td>negative</td>\n",
              "      <td>None</td>\n",
              "      <td>None</td>\n",
              "      <td>Abroad</td>\n",
              "    </tr>\n",
              "    <tr>\n",
              "      <th>1</th>\n",
              "      <td>2</td>\n",
              "      <td>11-03-2020</td>\n",
              "      <td>FALSE</td>\n",
              "      <td>TRUE</td>\n",
              "      <td>FALSE</td>\n",
              "      <td>FALSE</td>\n",
              "      <td>FALSE</td>\n",
              "      <td>positive</td>\n",
              "      <td>None</td>\n",
              "      <td>None</td>\n",
              "      <td>Abroad</td>\n",
              "    </tr>\n",
              "    <tr>\n",
              "      <th>2</th>\n",
              "      <td>3</td>\n",
              "      <td>11-03-2020</td>\n",
              "      <td>FALSE</td>\n",
              "      <td>TRUE</td>\n",
              "      <td>FALSE</td>\n",
              "      <td>FALSE</td>\n",
              "      <td>FALSE</td>\n",
              "      <td>positive</td>\n",
              "      <td>None</td>\n",
              "      <td>None</td>\n",
              "      <td>Abroad</td>\n",
              "    </tr>\n",
              "    <tr>\n",
              "      <th>3</th>\n",
              "      <td>4</td>\n",
              "      <td>11-03-2020</td>\n",
              "      <td>TRUE</td>\n",
              "      <td>FALSE</td>\n",
              "      <td>FALSE</td>\n",
              "      <td>FALSE</td>\n",
              "      <td>FALSE</td>\n",
              "      <td>negative</td>\n",
              "      <td>None</td>\n",
              "      <td>None</td>\n",
              "      <td>Abroad</td>\n",
              "    </tr>\n",
              "    <tr>\n",
              "      <th>4</th>\n",
              "      <td>5</td>\n",
              "      <td>11-03-2020</td>\n",
              "      <td>TRUE</td>\n",
              "      <td>FALSE</td>\n",
              "      <td>FALSE</td>\n",
              "      <td>FALSE</td>\n",
              "      <td>FALSE</td>\n",
              "      <td>negative</td>\n",
              "      <td>None</td>\n",
              "      <td>None</td>\n",
              "      <td>Contact with confirmed</td>\n",
              "    </tr>\n",
              "    <tr>\n",
              "      <th>...</th>\n",
              "      <td>...</td>\n",
              "      <td>...</td>\n",
              "      <td>...</td>\n",
              "      <td>...</td>\n",
              "      <td>...</td>\n",
              "      <td>...</td>\n",
              "      <td>...</td>\n",
              "      <td>...</td>\n",
              "      <td>...</td>\n",
              "      <td>...</td>\n",
              "      <td>...</td>\n",
              "    </tr>\n",
              "    <tr>\n",
              "      <th>278843</th>\n",
              "      <td>278844</td>\n",
              "      <td>30-04-2020</td>\n",
              "      <td>False</td>\n",
              "      <td>False</td>\n",
              "      <td>False</td>\n",
              "      <td>False</td>\n",
              "      <td>False</td>\n",
              "      <td>positive</td>\n",
              "      <td>None</td>\n",
              "      <td>male</td>\n",
              "      <td>Other</td>\n",
              "    </tr>\n",
              "    <tr>\n",
              "      <th>278844</th>\n",
              "      <td>278845</td>\n",
              "      <td>30-04-2020</td>\n",
              "      <td>False</td>\n",
              "      <td>False</td>\n",
              "      <td>False</td>\n",
              "      <td>False</td>\n",
              "      <td>False</td>\n",
              "      <td>negative</td>\n",
              "      <td>None</td>\n",
              "      <td>female</td>\n",
              "      <td>Other</td>\n",
              "    </tr>\n",
              "    <tr>\n",
              "      <th>278845</th>\n",
              "      <td>278846</td>\n",
              "      <td>30-04-2020</td>\n",
              "      <td>False</td>\n",
              "      <td>False</td>\n",
              "      <td>False</td>\n",
              "      <td>False</td>\n",
              "      <td>False</td>\n",
              "      <td>negative</td>\n",
              "      <td>None</td>\n",
              "      <td>male</td>\n",
              "      <td>Other</td>\n",
              "    </tr>\n",
              "    <tr>\n",
              "      <th>278846</th>\n",
              "      <td>278847</td>\n",
              "      <td>30-04-2020</td>\n",
              "      <td>False</td>\n",
              "      <td>False</td>\n",
              "      <td>False</td>\n",
              "      <td>False</td>\n",
              "      <td>False</td>\n",
              "      <td>negative</td>\n",
              "      <td>None</td>\n",
              "      <td>male</td>\n",
              "      <td>Other</td>\n",
              "    </tr>\n",
              "    <tr>\n",
              "      <th>278847</th>\n",
              "      <td>278848</td>\n",
              "      <td>30-04-2020</td>\n",
              "      <td>False</td>\n",
              "      <td>False</td>\n",
              "      <td>False</td>\n",
              "      <td>False</td>\n",
              "      <td>False</td>\n",
              "      <td>negative</td>\n",
              "      <td>None</td>\n",
              "      <td>female</td>\n",
              "      <td>Other</td>\n",
              "    </tr>\n",
              "  </tbody>\n",
              "</table>\n",
              "<p>278848 rows × 11 columns</p>\n",
              "</div>\n",
              "    <div class=\"colab-df-buttons\">\n",
              "\n",
              "  <div class=\"colab-df-container\">\n",
              "    <button class=\"colab-df-convert\" onclick=\"convertToInteractive('df-64ab7061-b9ee-4204-bb99-274065c1adaf')\"\n",
              "            title=\"Convert this dataframe to an interactive table.\"\n",
              "            style=\"display:none;\">\n",
              "\n",
              "  <svg xmlns=\"http://www.w3.org/2000/svg\" height=\"24px\" viewBox=\"0 -960 960 960\">\n",
              "    <path d=\"M120-120v-720h720v720H120Zm60-500h600v-160H180v160Zm220 220h160v-160H400v160Zm0 220h160v-160H400v160ZM180-400h160v-160H180v160Zm440 0h160v-160H620v160ZM180-180h160v-160H180v160Zm440 0h160v-160H620v160Z\"/>\n",
              "  </svg>\n",
              "    </button>\n",
              "\n",
              "  <style>\n",
              "    .colab-df-container {\n",
              "      display:flex;\n",
              "      gap: 12px;\n",
              "    }\n",
              "\n",
              "    .colab-df-convert {\n",
              "      background-color: #E8F0FE;\n",
              "      border: none;\n",
              "      border-radius: 50%;\n",
              "      cursor: pointer;\n",
              "      display: none;\n",
              "      fill: #1967D2;\n",
              "      height: 32px;\n",
              "      padding: 0 0 0 0;\n",
              "      width: 32px;\n",
              "    }\n",
              "\n",
              "    .colab-df-convert:hover {\n",
              "      background-color: #E2EBFA;\n",
              "      box-shadow: 0px 1px 2px rgba(60, 64, 67, 0.3), 0px 1px 3px 1px rgba(60, 64, 67, 0.15);\n",
              "      fill: #174EA6;\n",
              "    }\n",
              "\n",
              "    .colab-df-buttons div {\n",
              "      margin-bottom: 4px;\n",
              "    }\n",
              "\n",
              "    [theme=dark] .colab-df-convert {\n",
              "      background-color: #3B4455;\n",
              "      fill: #D2E3FC;\n",
              "    }\n",
              "\n",
              "    [theme=dark] .colab-df-convert:hover {\n",
              "      background-color: #434B5C;\n",
              "      box-shadow: 0px 1px 3px 1px rgba(0, 0, 0, 0.15);\n",
              "      filter: drop-shadow(0px 1px 2px rgba(0, 0, 0, 0.3));\n",
              "      fill: #FFFFFF;\n",
              "    }\n",
              "  </style>\n",
              "\n",
              "    <script>\n",
              "      const buttonEl =\n",
              "        document.querySelector('#df-64ab7061-b9ee-4204-bb99-274065c1adaf button.colab-df-convert');\n",
              "      buttonEl.style.display =\n",
              "        google.colab.kernel.accessAllowed ? 'block' : 'none';\n",
              "\n",
              "      async function convertToInteractive(key) {\n",
              "        const element = document.querySelector('#df-64ab7061-b9ee-4204-bb99-274065c1adaf');\n",
              "        const dataTable =\n",
              "          await google.colab.kernel.invokeFunction('convertToInteractive',\n",
              "                                                    [key], {});\n",
              "        if (!dataTable) return;\n",
              "\n",
              "        const docLinkHtml = 'Like what you see? Visit the ' +\n",
              "          '<a target=\"_blank\" href=https://colab.research.google.com/notebooks/data_table.ipynb>data table notebook</a>'\n",
              "          + ' to learn more about interactive tables.';\n",
              "        element.innerHTML = '';\n",
              "        dataTable['output_type'] = 'display_data';\n",
              "        await google.colab.output.renderOutput(dataTable, element);\n",
              "        const docLink = document.createElement('div');\n",
              "        docLink.innerHTML = docLinkHtml;\n",
              "        element.appendChild(docLink);\n",
              "      }\n",
              "    </script>\n",
              "  </div>\n",
              "\n",
              "\n",
              "<div id=\"df-9cc23b34-c0de-4f03-9b9a-2dd245ccbf10\">\n",
              "  <button class=\"colab-df-quickchart\" onclick=\"quickchart('df-9cc23b34-c0de-4f03-9b9a-2dd245ccbf10')\"\n",
              "            title=\"Suggest charts\"\n",
              "            style=\"display:none;\">\n",
              "\n",
              "<svg xmlns=\"http://www.w3.org/2000/svg\" height=\"24px\"viewBox=\"0 0 24 24\"\n",
              "     width=\"24px\">\n",
              "    <g>\n",
              "        <path d=\"M19 3H5c-1.1 0-2 .9-2 2v14c0 1.1.9 2 2 2h14c1.1 0 2-.9 2-2V5c0-1.1-.9-2-2-2zM9 17H7v-7h2v7zm4 0h-2V7h2v10zm4 0h-2v-4h2v4z\"/>\n",
              "    </g>\n",
              "</svg>\n",
              "  </button>\n",
              "\n",
              "<style>\n",
              "  .colab-df-quickchart {\n",
              "      --bg-color: #E8F0FE;\n",
              "      --fill-color: #1967D2;\n",
              "      --hover-bg-color: #E2EBFA;\n",
              "      --hover-fill-color: #174EA6;\n",
              "      --disabled-fill-color: #AAA;\n",
              "      --disabled-bg-color: #DDD;\n",
              "  }\n",
              "\n",
              "  [theme=dark] .colab-df-quickchart {\n",
              "      --bg-color: #3B4455;\n",
              "      --fill-color: #D2E3FC;\n",
              "      --hover-bg-color: #434B5C;\n",
              "      --hover-fill-color: #FFFFFF;\n",
              "      --disabled-bg-color: #3B4455;\n",
              "      --disabled-fill-color: #666;\n",
              "  }\n",
              "\n",
              "  .colab-df-quickchart {\n",
              "    background-color: var(--bg-color);\n",
              "    border: none;\n",
              "    border-radius: 50%;\n",
              "    cursor: pointer;\n",
              "    display: none;\n",
              "    fill: var(--fill-color);\n",
              "    height: 32px;\n",
              "    padding: 0;\n",
              "    width: 32px;\n",
              "  }\n",
              "\n",
              "  .colab-df-quickchart:hover {\n",
              "    background-color: var(--hover-bg-color);\n",
              "    box-shadow: 0 1px 2px rgba(60, 64, 67, 0.3), 0 1px 3px 1px rgba(60, 64, 67, 0.15);\n",
              "    fill: var(--button-hover-fill-color);\n",
              "  }\n",
              "\n",
              "  .colab-df-quickchart-complete:disabled,\n",
              "  .colab-df-quickchart-complete:disabled:hover {\n",
              "    background-color: var(--disabled-bg-color);\n",
              "    fill: var(--disabled-fill-color);\n",
              "    box-shadow: none;\n",
              "  }\n",
              "\n",
              "  .colab-df-spinner {\n",
              "    border: 2px solid var(--fill-color);\n",
              "    border-color: transparent;\n",
              "    border-bottom-color: var(--fill-color);\n",
              "    animation:\n",
              "      spin 1s steps(1) infinite;\n",
              "  }\n",
              "\n",
              "  @keyframes spin {\n",
              "    0% {\n",
              "      border-color: transparent;\n",
              "      border-bottom-color: var(--fill-color);\n",
              "      border-left-color: var(--fill-color);\n",
              "    }\n",
              "    20% {\n",
              "      border-color: transparent;\n",
              "      border-left-color: var(--fill-color);\n",
              "      border-top-color: var(--fill-color);\n",
              "    }\n",
              "    30% {\n",
              "      border-color: transparent;\n",
              "      border-left-color: var(--fill-color);\n",
              "      border-top-color: var(--fill-color);\n",
              "      border-right-color: var(--fill-color);\n",
              "    }\n",
              "    40% {\n",
              "      border-color: transparent;\n",
              "      border-right-color: var(--fill-color);\n",
              "      border-top-color: var(--fill-color);\n",
              "    }\n",
              "    60% {\n",
              "      border-color: transparent;\n",
              "      border-right-color: var(--fill-color);\n",
              "    }\n",
              "    80% {\n",
              "      border-color: transparent;\n",
              "      border-right-color: var(--fill-color);\n",
              "      border-bottom-color: var(--fill-color);\n",
              "    }\n",
              "    90% {\n",
              "      border-color: transparent;\n",
              "      border-bottom-color: var(--fill-color);\n",
              "    }\n",
              "  }\n",
              "</style>\n",
              "\n",
              "  <script>\n",
              "    async function quickchart(key) {\n",
              "      const quickchartButtonEl =\n",
              "        document.querySelector('#' + key + ' button');\n",
              "      quickchartButtonEl.disabled = true;  // To prevent multiple clicks.\n",
              "      quickchartButtonEl.classList.add('colab-df-spinner');\n",
              "      try {\n",
              "        const charts = await google.colab.kernel.invokeFunction(\n",
              "            'suggestCharts', [key], {});\n",
              "      } catch (error) {\n",
              "        console.error('Error during call to suggestCharts:', error);\n",
              "      }\n",
              "      quickchartButtonEl.classList.remove('colab-df-spinner');\n",
              "      quickchartButtonEl.classList.add('colab-df-quickchart-complete');\n",
              "    }\n",
              "    (() => {\n",
              "      let quickchartButtonEl =\n",
              "        document.querySelector('#df-9cc23b34-c0de-4f03-9b9a-2dd245ccbf10 button');\n",
              "      quickchartButtonEl.style.display =\n",
              "        google.colab.kernel.accessAllowed ? 'block' : 'none';\n",
              "    })();\n",
              "  </script>\n",
              "</div>\n",
              "\n",
              "  <div id=\"id_68f99626-a70f-45e0-9950-d859df71b3d3\">\n",
              "    <style>\n",
              "      .colab-df-generate {\n",
              "        background-color: #E8F0FE;\n",
              "        border: none;\n",
              "        border-radius: 50%;\n",
              "        cursor: pointer;\n",
              "        display: none;\n",
              "        fill: #1967D2;\n",
              "        height: 32px;\n",
              "        padding: 0 0 0 0;\n",
              "        width: 32px;\n",
              "      }\n",
              "\n",
              "      .colab-df-generate:hover {\n",
              "        background-color: #E2EBFA;\n",
              "        box-shadow: 0px 1px 2px rgba(60, 64, 67, 0.3), 0px 1px 3px 1px rgba(60, 64, 67, 0.15);\n",
              "        fill: #174EA6;\n",
              "      }\n",
              "\n",
              "      [theme=dark] .colab-df-generate {\n",
              "        background-color: #3B4455;\n",
              "        fill: #D2E3FC;\n",
              "      }\n",
              "\n",
              "      [theme=dark] .colab-df-generate:hover {\n",
              "        background-color: #434B5C;\n",
              "        box-shadow: 0px 1px 3px 1px rgba(0, 0, 0, 0.15);\n",
              "        filter: drop-shadow(0px 1px 2px rgba(0, 0, 0, 0.3));\n",
              "        fill: #FFFFFF;\n",
              "      }\n",
              "    </style>\n",
              "    <button class=\"colab-df-generate\" onclick=\"generateWithVariable('Covid_data')\"\n",
              "            title=\"Generate code using this dataframe.\"\n",
              "            style=\"display:none;\">\n",
              "\n",
              "  <svg xmlns=\"http://www.w3.org/2000/svg\" height=\"24px\"viewBox=\"0 0 24 24\"\n",
              "       width=\"24px\">\n",
              "    <path d=\"M7,19H8.4L18.45,9,17,7.55,7,17.6ZM5,21V16.75L18.45,3.32a2,2,0,0,1,2.83,0l1.4,1.43a1.91,1.91,0,0,1,.58,1.4,1.91,1.91,0,0,1-.58,1.4L9.25,21ZM18.45,9,17,7.55Zm-12,3A5.31,5.31,0,0,0,4.9,8.1,5.31,5.31,0,0,0,1,6.5,5.31,5.31,0,0,0,4.9,4.9,5.31,5.31,0,0,0,6.5,1,5.31,5.31,0,0,0,8.1,4.9,5.31,5.31,0,0,0,12,6.5,5.46,5.46,0,0,0,6.5,12Z\"/>\n",
              "  </svg>\n",
              "    </button>\n",
              "    <script>\n",
              "      (() => {\n",
              "      const buttonEl =\n",
              "        document.querySelector('#id_68f99626-a70f-45e0-9950-d859df71b3d3 button.colab-df-generate');\n",
              "      buttonEl.style.display =\n",
              "        google.colab.kernel.accessAllowed ? 'block' : 'none';\n",
              "\n",
              "      buttonEl.onclick = () => {\n",
              "        google.colab.notebook.generateWithVariable('Covid_data');\n",
              "      }\n",
              "      })();\n",
              "    </script>\n",
              "  </div>\n",
              "\n",
              "    </div>\n",
              "  </div>\n"
            ]
          },
          "metadata": {},
          "execution_count": 153
        }
      ],
      "source": [
        "Covid_data = data.copy() #copy data into a new variable, covid_data.\n",
        "Covid_data"
      ]
    },
    {
      "cell_type": "markdown",
      "metadata": {
        "id": "7RaEAl8Q1NYn"
      },
      "source": [
        "# Data Cleaning\n"
      ]
    },
    {
      "cell_type": "code",
      "execution_count": null,
      "metadata": {
        "colab": {
          "base_uri": "https://localhost:8080/"
        },
        "id": "OiMMeOp1yj6m",
        "outputId": "cc44ad37-c523-419c-ed12-80d4a6ddbca8"
      },
      "outputs": [
        {
          "output_type": "execute_result",
          "data": {
            "text/plain": [
              "(278848, 11)"
            ]
          },
          "metadata": {},
          "execution_count": 154
        }
      ],
      "source": [
        "Covid_data.shape"
      ]
    },
    {
      "cell_type": "code",
      "execution_count": null,
      "metadata": {
        "colab": {
          "base_uri": "https://localhost:8080/",
          "height": 206
        },
        "id": "amC6LGBqyj94",
        "outputId": "1e6116cc-af31-467c-c69c-9b30f3a0266c"
      },
      "outputs": [
        {
          "output_type": "execute_result",
          "data": {
            "text/plain": [
              "   Ind_ID   Test_date Cough_symptoms  Fever Sore_throat Shortness_of_breath  \\\n",
              "0       1  11-03-2020           TRUE  FALSE        TRUE               FALSE   \n",
              "1       2  11-03-2020          FALSE   TRUE       FALSE               FALSE   \n",
              "2       3  11-03-2020          FALSE   TRUE       FALSE               FALSE   \n",
              "3       4  11-03-2020           TRUE  FALSE       FALSE               FALSE   \n",
              "4       5  11-03-2020           TRUE  FALSE       FALSE               FALSE   \n",
              "\n",
              "  Headache    Corona Age_60_above   Sex           Known_contact  \n",
              "0    FALSE  negative         None  None                  Abroad  \n",
              "1    FALSE  positive         None  None                  Abroad  \n",
              "2    FALSE  positive         None  None                  Abroad  \n",
              "3    FALSE  negative         None  None                  Abroad  \n",
              "4    FALSE  negative         None  None  Contact with confirmed  "
            ],
            "text/html": [
              "\n",
              "  <div id=\"df-5bf1f25d-9a4c-4a2b-9127-7b3d56b8ae41\" class=\"colab-df-container\">\n",
              "    <div>\n",
              "<style scoped>\n",
              "    .dataframe tbody tr th:only-of-type {\n",
              "        vertical-align: middle;\n",
              "    }\n",
              "\n",
              "    .dataframe tbody tr th {\n",
              "        vertical-align: top;\n",
              "    }\n",
              "\n",
              "    .dataframe thead th {\n",
              "        text-align: right;\n",
              "    }\n",
              "</style>\n",
              "<table border=\"1\" class=\"dataframe\">\n",
              "  <thead>\n",
              "    <tr style=\"text-align: right;\">\n",
              "      <th></th>\n",
              "      <th>Ind_ID</th>\n",
              "      <th>Test_date</th>\n",
              "      <th>Cough_symptoms</th>\n",
              "      <th>Fever</th>\n",
              "      <th>Sore_throat</th>\n",
              "      <th>Shortness_of_breath</th>\n",
              "      <th>Headache</th>\n",
              "      <th>Corona</th>\n",
              "      <th>Age_60_above</th>\n",
              "      <th>Sex</th>\n",
              "      <th>Known_contact</th>\n",
              "    </tr>\n",
              "  </thead>\n",
              "  <tbody>\n",
              "    <tr>\n",
              "      <th>0</th>\n",
              "      <td>1</td>\n",
              "      <td>11-03-2020</td>\n",
              "      <td>TRUE</td>\n",
              "      <td>FALSE</td>\n",
              "      <td>TRUE</td>\n",
              "      <td>FALSE</td>\n",
              "      <td>FALSE</td>\n",
              "      <td>negative</td>\n",
              "      <td>None</td>\n",
              "      <td>None</td>\n",
              "      <td>Abroad</td>\n",
              "    </tr>\n",
              "    <tr>\n",
              "      <th>1</th>\n",
              "      <td>2</td>\n",
              "      <td>11-03-2020</td>\n",
              "      <td>FALSE</td>\n",
              "      <td>TRUE</td>\n",
              "      <td>FALSE</td>\n",
              "      <td>FALSE</td>\n",
              "      <td>FALSE</td>\n",
              "      <td>positive</td>\n",
              "      <td>None</td>\n",
              "      <td>None</td>\n",
              "      <td>Abroad</td>\n",
              "    </tr>\n",
              "    <tr>\n",
              "      <th>2</th>\n",
              "      <td>3</td>\n",
              "      <td>11-03-2020</td>\n",
              "      <td>FALSE</td>\n",
              "      <td>TRUE</td>\n",
              "      <td>FALSE</td>\n",
              "      <td>FALSE</td>\n",
              "      <td>FALSE</td>\n",
              "      <td>positive</td>\n",
              "      <td>None</td>\n",
              "      <td>None</td>\n",
              "      <td>Abroad</td>\n",
              "    </tr>\n",
              "    <tr>\n",
              "      <th>3</th>\n",
              "      <td>4</td>\n",
              "      <td>11-03-2020</td>\n",
              "      <td>TRUE</td>\n",
              "      <td>FALSE</td>\n",
              "      <td>FALSE</td>\n",
              "      <td>FALSE</td>\n",
              "      <td>FALSE</td>\n",
              "      <td>negative</td>\n",
              "      <td>None</td>\n",
              "      <td>None</td>\n",
              "      <td>Abroad</td>\n",
              "    </tr>\n",
              "    <tr>\n",
              "      <th>4</th>\n",
              "      <td>5</td>\n",
              "      <td>11-03-2020</td>\n",
              "      <td>TRUE</td>\n",
              "      <td>FALSE</td>\n",
              "      <td>FALSE</td>\n",
              "      <td>FALSE</td>\n",
              "      <td>FALSE</td>\n",
              "      <td>negative</td>\n",
              "      <td>None</td>\n",
              "      <td>None</td>\n",
              "      <td>Contact with confirmed</td>\n",
              "    </tr>\n",
              "  </tbody>\n",
              "</table>\n",
              "</div>\n",
              "    <div class=\"colab-df-buttons\">\n",
              "\n",
              "  <div class=\"colab-df-container\">\n",
              "    <button class=\"colab-df-convert\" onclick=\"convertToInteractive('df-5bf1f25d-9a4c-4a2b-9127-7b3d56b8ae41')\"\n",
              "            title=\"Convert this dataframe to an interactive table.\"\n",
              "            style=\"display:none;\">\n",
              "\n",
              "  <svg xmlns=\"http://www.w3.org/2000/svg\" height=\"24px\" viewBox=\"0 -960 960 960\">\n",
              "    <path d=\"M120-120v-720h720v720H120Zm60-500h600v-160H180v160Zm220 220h160v-160H400v160Zm0 220h160v-160H400v160ZM180-400h160v-160H180v160Zm440 0h160v-160H620v160ZM180-180h160v-160H180v160Zm440 0h160v-160H620v160Z\"/>\n",
              "  </svg>\n",
              "    </button>\n",
              "\n",
              "  <style>\n",
              "    .colab-df-container {\n",
              "      display:flex;\n",
              "      gap: 12px;\n",
              "    }\n",
              "\n",
              "    .colab-df-convert {\n",
              "      background-color: #E8F0FE;\n",
              "      border: none;\n",
              "      border-radius: 50%;\n",
              "      cursor: pointer;\n",
              "      display: none;\n",
              "      fill: #1967D2;\n",
              "      height: 32px;\n",
              "      padding: 0 0 0 0;\n",
              "      width: 32px;\n",
              "    }\n",
              "\n",
              "    .colab-df-convert:hover {\n",
              "      background-color: #E2EBFA;\n",
              "      box-shadow: 0px 1px 2px rgba(60, 64, 67, 0.3), 0px 1px 3px 1px rgba(60, 64, 67, 0.15);\n",
              "      fill: #174EA6;\n",
              "    }\n",
              "\n",
              "    .colab-df-buttons div {\n",
              "      margin-bottom: 4px;\n",
              "    }\n",
              "\n",
              "    [theme=dark] .colab-df-convert {\n",
              "      background-color: #3B4455;\n",
              "      fill: #D2E3FC;\n",
              "    }\n",
              "\n",
              "    [theme=dark] .colab-df-convert:hover {\n",
              "      background-color: #434B5C;\n",
              "      box-shadow: 0px 1px 3px 1px rgba(0, 0, 0, 0.15);\n",
              "      filter: drop-shadow(0px 1px 2px rgba(0, 0, 0, 0.3));\n",
              "      fill: #FFFFFF;\n",
              "    }\n",
              "  </style>\n",
              "\n",
              "    <script>\n",
              "      const buttonEl =\n",
              "        document.querySelector('#df-5bf1f25d-9a4c-4a2b-9127-7b3d56b8ae41 button.colab-df-convert');\n",
              "      buttonEl.style.display =\n",
              "        google.colab.kernel.accessAllowed ? 'block' : 'none';\n",
              "\n",
              "      async function convertToInteractive(key) {\n",
              "        const element = document.querySelector('#df-5bf1f25d-9a4c-4a2b-9127-7b3d56b8ae41');\n",
              "        const dataTable =\n",
              "          await google.colab.kernel.invokeFunction('convertToInteractive',\n",
              "                                                    [key], {});\n",
              "        if (!dataTable) return;\n",
              "\n",
              "        const docLinkHtml = 'Like what you see? Visit the ' +\n",
              "          '<a target=\"_blank\" href=https://colab.research.google.com/notebooks/data_table.ipynb>data table notebook</a>'\n",
              "          + ' to learn more about interactive tables.';\n",
              "        element.innerHTML = '';\n",
              "        dataTable['output_type'] = 'display_data';\n",
              "        await google.colab.output.renderOutput(dataTable, element);\n",
              "        const docLink = document.createElement('div');\n",
              "        docLink.innerHTML = docLinkHtml;\n",
              "        element.appendChild(docLink);\n",
              "      }\n",
              "    </script>\n",
              "  </div>\n",
              "\n",
              "\n",
              "<div id=\"df-0b47dfb3-bc6e-441b-9623-dd1c2e1b5712\">\n",
              "  <button class=\"colab-df-quickchart\" onclick=\"quickchart('df-0b47dfb3-bc6e-441b-9623-dd1c2e1b5712')\"\n",
              "            title=\"Suggest charts\"\n",
              "            style=\"display:none;\">\n",
              "\n",
              "<svg xmlns=\"http://www.w3.org/2000/svg\" height=\"24px\"viewBox=\"0 0 24 24\"\n",
              "     width=\"24px\">\n",
              "    <g>\n",
              "        <path d=\"M19 3H5c-1.1 0-2 .9-2 2v14c0 1.1.9 2 2 2h14c1.1 0 2-.9 2-2V5c0-1.1-.9-2-2-2zM9 17H7v-7h2v7zm4 0h-2V7h2v10zm4 0h-2v-4h2v4z\"/>\n",
              "    </g>\n",
              "</svg>\n",
              "  </button>\n",
              "\n",
              "<style>\n",
              "  .colab-df-quickchart {\n",
              "      --bg-color: #E8F0FE;\n",
              "      --fill-color: #1967D2;\n",
              "      --hover-bg-color: #E2EBFA;\n",
              "      --hover-fill-color: #174EA6;\n",
              "      --disabled-fill-color: #AAA;\n",
              "      --disabled-bg-color: #DDD;\n",
              "  }\n",
              "\n",
              "  [theme=dark] .colab-df-quickchart {\n",
              "      --bg-color: #3B4455;\n",
              "      --fill-color: #D2E3FC;\n",
              "      --hover-bg-color: #434B5C;\n",
              "      --hover-fill-color: #FFFFFF;\n",
              "      --disabled-bg-color: #3B4455;\n",
              "      --disabled-fill-color: #666;\n",
              "  }\n",
              "\n",
              "  .colab-df-quickchart {\n",
              "    background-color: var(--bg-color);\n",
              "    border: none;\n",
              "    border-radius: 50%;\n",
              "    cursor: pointer;\n",
              "    display: none;\n",
              "    fill: var(--fill-color);\n",
              "    height: 32px;\n",
              "    padding: 0;\n",
              "    width: 32px;\n",
              "  }\n",
              "\n",
              "  .colab-df-quickchart:hover {\n",
              "    background-color: var(--hover-bg-color);\n",
              "    box-shadow: 0 1px 2px rgba(60, 64, 67, 0.3), 0 1px 3px 1px rgba(60, 64, 67, 0.15);\n",
              "    fill: var(--button-hover-fill-color);\n",
              "  }\n",
              "\n",
              "  .colab-df-quickchart-complete:disabled,\n",
              "  .colab-df-quickchart-complete:disabled:hover {\n",
              "    background-color: var(--disabled-bg-color);\n",
              "    fill: var(--disabled-fill-color);\n",
              "    box-shadow: none;\n",
              "  }\n",
              "\n",
              "  .colab-df-spinner {\n",
              "    border: 2px solid var(--fill-color);\n",
              "    border-color: transparent;\n",
              "    border-bottom-color: var(--fill-color);\n",
              "    animation:\n",
              "      spin 1s steps(1) infinite;\n",
              "  }\n",
              "\n",
              "  @keyframes spin {\n",
              "    0% {\n",
              "      border-color: transparent;\n",
              "      border-bottom-color: var(--fill-color);\n",
              "      border-left-color: var(--fill-color);\n",
              "    }\n",
              "    20% {\n",
              "      border-color: transparent;\n",
              "      border-left-color: var(--fill-color);\n",
              "      border-top-color: var(--fill-color);\n",
              "    }\n",
              "    30% {\n",
              "      border-color: transparent;\n",
              "      border-left-color: var(--fill-color);\n",
              "      border-top-color: var(--fill-color);\n",
              "      border-right-color: var(--fill-color);\n",
              "    }\n",
              "    40% {\n",
              "      border-color: transparent;\n",
              "      border-right-color: var(--fill-color);\n",
              "      border-top-color: var(--fill-color);\n",
              "    }\n",
              "    60% {\n",
              "      border-color: transparent;\n",
              "      border-right-color: var(--fill-color);\n",
              "    }\n",
              "    80% {\n",
              "      border-color: transparent;\n",
              "      border-right-color: var(--fill-color);\n",
              "      border-bottom-color: var(--fill-color);\n",
              "    }\n",
              "    90% {\n",
              "      border-color: transparent;\n",
              "      border-bottom-color: var(--fill-color);\n",
              "    }\n",
              "  }\n",
              "</style>\n",
              "\n",
              "  <script>\n",
              "    async function quickchart(key) {\n",
              "      const quickchartButtonEl =\n",
              "        document.querySelector('#' + key + ' button');\n",
              "      quickchartButtonEl.disabled = true;  // To prevent multiple clicks.\n",
              "      quickchartButtonEl.classList.add('colab-df-spinner');\n",
              "      try {\n",
              "        const charts = await google.colab.kernel.invokeFunction(\n",
              "            'suggestCharts', [key], {});\n",
              "      } catch (error) {\n",
              "        console.error('Error during call to suggestCharts:', error);\n",
              "      }\n",
              "      quickchartButtonEl.classList.remove('colab-df-spinner');\n",
              "      quickchartButtonEl.classList.add('colab-df-quickchart-complete');\n",
              "    }\n",
              "    (() => {\n",
              "      let quickchartButtonEl =\n",
              "        document.querySelector('#df-0b47dfb3-bc6e-441b-9623-dd1c2e1b5712 button');\n",
              "      quickchartButtonEl.style.display =\n",
              "        google.colab.kernel.accessAllowed ? 'block' : 'none';\n",
              "    })();\n",
              "  </script>\n",
              "</div>\n",
              "\n",
              "    </div>\n",
              "  </div>\n"
            ]
          },
          "metadata": {},
          "execution_count": 155
        }
      ],
      "source": [
        "Covid_data.head()\n"
      ]
    },
    {
      "cell_type": "code",
      "execution_count": null,
      "metadata": {
        "colab": {
          "base_uri": "https://localhost:8080/"
        },
        "id": "hbDTNOpTSWe-",
        "outputId": "90cfbc73-77dc-448e-f94a-a73074c4b790"
      },
      "outputs": [
        {
          "output_type": "stream",
          "name": "stdout",
          "text": [
            "<class 'pandas.core.frame.DataFrame'>\n",
            "RangeIndex: 278848 entries, 0 to 278847\n",
            "Data columns (total 11 columns):\n",
            " #   Column               Non-Null Count   Dtype \n",
            "---  ------               --------------   ----- \n",
            " 0   Ind_ID               278848 non-null  int64 \n",
            " 1   Test_date            278848 non-null  object\n",
            " 2   Cough_symptoms       278848 non-null  object\n",
            " 3   Fever                278848 non-null  object\n",
            " 4   Sore_throat          278848 non-null  object\n",
            " 5   Shortness_of_breath  278848 non-null  object\n",
            " 6   Headache             278848 non-null  object\n",
            " 7   Corona               278848 non-null  object\n",
            " 8   Age_60_above         278848 non-null  object\n",
            " 9   Sex                  278848 non-null  object\n",
            " 10  Known_contact        278848 non-null  object\n",
            "dtypes: int64(1), object(10)\n",
            "memory usage: 23.4+ MB\n"
          ]
        }
      ],
      "source": [
        "Covid_data.info()\n"
      ]
    },
    {
      "cell_type": "markdown",
      "source": [
        "Here, Python read Test_date as object it means that the dates are currently stored as strings.so we need to convert Test_date in to datetime format"
      ],
      "metadata": {
        "id": "XPjUznqbqIOK"
      }
    },
    {
      "cell_type": "code",
      "execution_count": null,
      "metadata": {
        "colab": {
          "base_uri": "https://localhost:8080/"
        },
        "id": "LptIBlv-SWhT",
        "outputId": "7dd38839-8166-4fbc-99e5-07eb3a25a731"
      },
      "outputs": [
        {
          "output_type": "stream",
          "name": "stdout",
          "text": [
            "unique Value in Ind_ID: [     1      2      3 ... 278846 278847 278848]\n",
            "unique Value in Test_date: ['11-03-2020' '12-03-2020' '13-03-2020' '14-03-2020' '15-03-2020'\n",
            " '16-03-2020' '17-03-2020' '18-03-2020' '19-03-2020' '20-03-2020'\n",
            " '21-03-2020' '22-03-2020' '23-03-2020' '24-03-2020' '25-03-2020'\n",
            " '26-03-2020' '27-03-2020' '28-03-2020' '29-03-2020' '30-03-2020'\n",
            " '31-03-2020' '01-04-2020' '02-04-2020' '03-04-2020' '04-04-2020'\n",
            " '05-04-2020' '06-04-2020' '07-04-2020' '08-04-2020' '09-04-2020'\n",
            " '10-04-2020' '11-04-2020' '12-04-2020' '13-04-2020' '14-04-2020'\n",
            " '15-04-2020' '16-04-2020' '17-04-2020' '18-04-2020' '19-04-2020'\n",
            " '20-04-2020' '21-04-2020' '22-04-2020' '23-04-2020' '24-04-2020'\n",
            " '25-04-2020' '26-04-2020' '27-04-2020' '28-04-2020' '29-04-2020'\n",
            " '30-04-2020']\n",
            "unique Value in Cough_symptoms: ['TRUE' 'FALSE' 'None' False True]\n",
            "unique Value in Fever: ['FALSE' 'TRUE' 'None' False True]\n",
            "unique Value in Sore_throat: ['TRUE' 'FALSE' 'None' False True]\n",
            "unique Value in Shortness_of_breath: ['FALSE' 'TRUE' 'None' False True]\n",
            "unique Value in Headache: ['FALSE' 'TRUE' 'None' False True]\n",
            "unique Value in Corona: ['negative' 'positive' 'other']\n",
            "unique Value in Age_60_above: ['None' 'No' 'Yes']\n",
            "unique Value in Sex: ['None' 'male' 'female']\n",
            "unique Value in Known_contact: ['Abroad' 'Contact with confirmed' 'Other']\n"
          ]
        }
      ],
      "source": [
        "for column in Covid_data:\n",
        "  unique_value=Covid_data[column].unique()\n",
        "  print(f\"unique Value in {column}:\",unique_value) # Checking Unique values in each column"
      ]
    },
    {
      "cell_type": "markdown",
      "source": [
        "Here , we can see that some columns like 'Cough_symptoms', 'Fever', 'Sore_throat', 'Shortness_of_breath', 'Headache' contains some Boolean values so we need to replace this boolean values and None values with appropriate strings and NaN.\n",
        "\n",
        "Becuase this can potentially affect our data analysis and machine learning model"
      ],
      "metadata": {
        "id": "GPClSZlJA8bK"
      }
    },
    {
      "cell_type": "code",
      "execution_count": null,
      "metadata": {
        "id": "A7DT9g33SWk5"
      },
      "outputs": [],
      "source": [
        "columns_to_replace = ['Cough_symptoms', 'Fever', 'Sore_throat', 'Shortness_of_breath', 'Headache']\n",
        "\n",
        "# Replace boolean values and 'None' with appropriate strings and NaN\n",
        "Covid_data[columns_to_replace] = Covid_data[columns_to_replace].replace({True: 'TRUE',False: 'FALSE','None': np.nan})\n"
      ]
    },
    {
      "cell_type": "code",
      "execution_count": null,
      "metadata": {
        "id": "2MY_rWJJSWnT"
      },
      "outputs": [],
      "source": [
        "#Date_Time Formatting using  pd.to_datetime() function and specifying the date format as '%d-%m-%Y'.\n",
        "\n",
        "Covid_data['Test_date'] = pd.to_datetime(Covid_data['Test_date'], format='%d-%m-%Y')"
      ]
    },
    {
      "cell_type": "code",
      "source": [
        "Covid_data.info()"
      ],
      "metadata": {
        "colab": {
          "base_uri": "https://localhost:8080/"
        },
        "id": "i-xYNweJeudz",
        "outputId": "00638d09-6d78-4778-e707-3ddb54a7d3ce"
      },
      "execution_count": null,
      "outputs": [
        {
          "output_type": "stream",
          "name": "stdout",
          "text": [
            "<class 'pandas.core.frame.DataFrame'>\n",
            "RangeIndex: 278848 entries, 0 to 278847\n",
            "Data columns (total 11 columns):\n",
            " #   Column               Non-Null Count   Dtype         \n",
            "---  ------               --------------   -----         \n",
            " 0   Ind_ID               278848 non-null  int64         \n",
            " 1   Test_date            278848 non-null  datetime64[ns]\n",
            " 2   Cough_symptoms       278596 non-null  object        \n",
            " 3   Fever                278596 non-null  object        \n",
            " 4   Sore_throat          278847 non-null  object        \n",
            " 5   Shortness_of_breath  278847 non-null  object        \n",
            " 6   Headache             278847 non-null  object        \n",
            " 7   Corona               278848 non-null  object        \n",
            " 8   Age_60_above         278848 non-null  object        \n",
            " 9   Sex                  278848 non-null  object        \n",
            " 10  Known_contact        278848 non-null  object        \n",
            "dtypes: datetime64[ns](1), int64(1), object(9)\n",
            "memory usage: 23.4+ MB\n"
          ]
        }
      ]
    },
    {
      "cell_type": "code",
      "source": [
        "Covid_data['Corona'].value_counts()"
      ],
      "metadata": {
        "colab": {
          "base_uri": "https://localhost:8080/"
        },
        "id": "xpRrH61iUNCH",
        "outputId": "c6fbb40d-da0d-4f0c-d0bc-cbfd806ddc63"
      },
      "execution_count": null,
      "outputs": [
        {
          "output_type": "execute_result",
          "data": {
            "text/plain": [
              "negative    260227\n",
              "positive     14729\n",
              "other         3892\n",
              "Name: Corona, dtype: int64"
            ]
          },
          "metadata": {},
          "execution_count": 161
        }
      ]
    },
    {
      "cell_type": "markdown",
      "source": [
        "This category might include cases where the test results are inconclusive, or the test may be for a different condition rather than COVID-19. so we replace this other category with mode value."
      ],
      "metadata": {
        "id": "EQZmGSiTtuf4"
      }
    },
    {
      "cell_type": "code",
      "source": [
        "Covid_data['Corona'].mode()"
      ],
      "metadata": {
        "colab": {
          "base_uri": "https://localhost:8080/"
        },
        "id": "YwbFroueV1VP",
        "outputId": "ac68cc52-c559-48e9-c833-5f29b29f36e4"
      },
      "execution_count": null,
      "outputs": [
        {
          "output_type": "execute_result",
          "data": {
            "text/plain": [
              "0    negative\n",
              "Name: Corona, dtype: object"
            ]
          },
          "metadata": {},
          "execution_count": 162
        }
      ]
    },
    {
      "cell_type": "code",
      "source": [
        "# here we do replacement\n",
        "\n",
        "Covid_data ['Corona'].replace('other','negative',inplace = True)"
      ],
      "metadata": {
        "id": "K9bw5En0WEM9"
      },
      "execution_count": null,
      "outputs": []
    },
    {
      "cell_type": "code",
      "source": [
        "Covid_data ['Age_60_above'].value_counts()"
      ],
      "metadata": {
        "colab": {
          "base_uri": "https://localhost:8080/"
        },
        "id": "fHoC2leZWfqB",
        "outputId": "553eae0a-8d72-4c4d-dddb-2594a26d7e07"
      },
      "execution_count": null,
      "outputs": [
        {
          "output_type": "execute_result",
          "data": {
            "text/plain": [
              "None    127320\n",
              "No      125703\n",
              "Yes      25825\n",
              "Name: Age_60_above, dtype: int64"
            ]
          },
          "metadata": {},
          "execution_count": 164
        }
      ]
    },
    {
      "cell_type": "markdown",
      "source": [
        "For the records where Age_60_above is labeled as \"None,\" it could mean that the\n",
        "\n",
        "data for the age group is missing or not provided.\n",
        "\n",
        "so we replace None value with mode() ."
      ],
      "metadata": {
        "id": "VZ2L93sBTTsL"
      }
    },
    {
      "cell_type": "code",
      "source": [
        "Covid_data['Age_60_above'].mode()"
      ],
      "metadata": {
        "colab": {
          "base_uri": "https://localhost:8080/"
        },
        "id": "PUI5TL5PSoWc",
        "outputId": "d7050f5b-bb60-445b-a9e9-500b005b808a"
      },
      "execution_count": null,
      "outputs": [
        {
          "output_type": "execute_result",
          "data": {
            "text/plain": [
              "0    None\n",
              "Name: Age_60_above, dtype: object"
            ]
          },
          "metadata": {},
          "execution_count": 165
        }
      ]
    },
    {
      "cell_type": "code",
      "source": [
        "Covid_data ['Age_60_above'].replace('None','No',inplace = True)"
      ],
      "metadata": {
        "id": "HT6BNOtSWnf8"
      },
      "execution_count": null,
      "outputs": []
    },
    {
      "cell_type": "code",
      "source": [
        "Covid_data['Age_60_above'].value_counts()"
      ],
      "metadata": {
        "colab": {
          "base_uri": "https://localhost:8080/"
        },
        "id": "hgSinXQaXCAf",
        "outputId": "fe3d4bf2-ff05-4d20-8ff0-00ffb04d1bcb"
      },
      "execution_count": null,
      "outputs": [
        {
          "output_type": "execute_result",
          "data": {
            "text/plain": [
              "No     253023\n",
              "Yes     25825\n",
              "Name: Age_60_above, dtype: int64"
            ]
          },
          "metadata": {},
          "execution_count": 167
        }
      ]
    },
    {
      "cell_type": "code",
      "source": [
        "Covid_data['Sex'].value_counts()"
      ],
      "metadata": {
        "colab": {
          "base_uri": "https://localhost:8080/"
        },
        "id": "lWJcaSo4TsoP",
        "outputId": "92a99976-562c-4fd9-e741-d2752a4c778d"
      },
      "execution_count": null,
      "outputs": [
        {
          "output_type": "execute_result",
          "data": {
            "text/plain": [
              "female    130158\n",
              "male      129127\n",
              "None       19563\n",
              "Name: Sex, dtype: int64"
            ]
          },
          "metadata": {},
          "execution_count": 168
        }
      ]
    },
    {
      "cell_type": "code",
      "source": [
        "Covid_data['Sex'].mode()"
      ],
      "metadata": {
        "colab": {
          "base_uri": "https://localhost:8080/"
        },
        "id": "hbGtPFEzTbt9",
        "outputId": "82f5dafd-c2af-4297-f58b-a7ce48c12fa5"
      },
      "execution_count": null,
      "outputs": [
        {
          "output_type": "execute_result",
          "data": {
            "text/plain": [
              "0    female\n",
              "Name: Sex, dtype: object"
            ]
          },
          "metadata": {},
          "execution_count": 169
        }
      ]
    },
    {
      "cell_type": "code",
      "source": [
        "Covid_data ['Sex'].replace('None','female',inplace = True)\n"
      ],
      "metadata": {
        "id": "9HFtQs3zXMra"
      },
      "execution_count": null,
      "outputs": []
    },
    {
      "cell_type": "code",
      "source": [
        "Covid_data['Known_contact'].value_counts()"
      ],
      "metadata": {
        "colab": {
          "base_uri": "https://localhost:8080/"
        },
        "id": "JcFTSZu7ZKUf",
        "outputId": "c1c29dc3-0824-4169-945e-be70c0e88798"
      },
      "execution_count": null,
      "outputs": [
        {
          "output_type": "execute_result",
          "data": {
            "text/plain": [
              "Other                     242741\n",
              "Abroad                     25468\n",
              "Contact with confirmed     10639\n",
              "Name: Known_contact, dtype: int64"
            ]
          },
          "metadata": {},
          "execution_count": 171
        }
      ]
    },
    {
      "cell_type": "code",
      "source": [
        "Covid_data['Test_date'].value_counts()"
      ],
      "metadata": {
        "colab": {
          "base_uri": "https://localhost:8080/"
        },
        "id": "5GWzr2P6pUL3",
        "outputId": "7159ffde-d744-4ff0-f7d1-70d2b879b8b9"
      },
      "execution_count": null,
      "outputs": [
        {
          "output_type": "execute_result",
          "data": {
            "text/plain": [
              "2020-04-20    10921\n",
              "2020-04-19    10199\n",
              "2020-04-22     9646\n",
              "2020-04-21     9624\n",
              "2020-04-16     9138\n",
              "2020-04-23     8744\n",
              "2020-04-01     8654\n",
              "2020-04-13     8425\n",
              "2020-04-02     8188\n",
              "2020-04-03     8079\n",
              "2020-04-17     7645\n",
              "2020-04-05     7509\n",
              "2020-04-30     7313\n",
              "2020-04-27     7304\n",
              "2020-04-15     7149\n",
              "2020-03-31     7134\n",
              "2020-04-24     7028\n",
              "2020-03-26     6663\n",
              "2020-04-14     6571\n",
              "2020-04-28     6334\n",
              "2020-04-18     6321\n",
              "2020-04-26     6131\n",
              "2020-04-12     5984\n",
              "2020-03-27     5963\n",
              "2020-04-07     5931\n",
              "2020-03-30     5915\n",
              "2020-04-10     5678\n",
              "2020-03-28     5602\n",
              "2020-03-25     5495\n",
              "2020-04-06     5368\n",
              "2020-03-29     5277\n",
              "2020-04-04     5145\n",
              "2020-04-25     5052\n",
              "2020-03-24     4735\n",
              "2020-04-09     4539\n",
              "2020-04-11     4341\n",
              "2020-04-29     4259\n",
              "2020-04-08     4058\n",
              "2020-03-22     3565\n",
              "2020-03-23     3494\n",
              "2020-03-19     2243\n",
              "2020-03-18     1991\n",
              "2020-03-20     1870\n",
              "2020-03-21     1648\n",
              "2020-03-17     1463\n",
              "2020-03-16     1304\n",
              "2020-03-15      985\n",
              "2020-03-13      686\n",
              "2020-03-12      634\n",
              "2020-03-14      609\n",
              "2020-03-11      294\n",
              "Name: Test_date, dtype: int64"
            ]
          },
          "metadata": {},
          "execution_count": 172
        }
      ]
    },
    {
      "cell_type": "code",
      "execution_count": null,
      "metadata": {
        "colab": {
          "base_uri": "https://localhost:8080/"
        },
        "id": "LkNcmzysSWq6",
        "outputId": "f7d03b34-ca26-401a-fcba-353201536012"
      },
      "outputs": [
        {
          "output_type": "stream",
          "name": "stdout",
          "text": [
            "unique Value in Ind_ID: [     1      2      3 ... 278846 278847 278848]\n",
            "unique Value in Test_date: ['2020-03-11T00:00:00.000000000' '2020-03-12T00:00:00.000000000'\n",
            " '2020-03-13T00:00:00.000000000' '2020-03-14T00:00:00.000000000'\n",
            " '2020-03-15T00:00:00.000000000' '2020-03-16T00:00:00.000000000'\n",
            " '2020-03-17T00:00:00.000000000' '2020-03-18T00:00:00.000000000'\n",
            " '2020-03-19T00:00:00.000000000' '2020-03-20T00:00:00.000000000'\n",
            " '2020-03-21T00:00:00.000000000' '2020-03-22T00:00:00.000000000'\n",
            " '2020-03-23T00:00:00.000000000' '2020-03-24T00:00:00.000000000'\n",
            " '2020-03-25T00:00:00.000000000' '2020-03-26T00:00:00.000000000'\n",
            " '2020-03-27T00:00:00.000000000' '2020-03-28T00:00:00.000000000'\n",
            " '2020-03-29T00:00:00.000000000' '2020-03-30T00:00:00.000000000'\n",
            " '2020-03-31T00:00:00.000000000' '2020-04-01T00:00:00.000000000'\n",
            " '2020-04-02T00:00:00.000000000' '2020-04-03T00:00:00.000000000'\n",
            " '2020-04-04T00:00:00.000000000' '2020-04-05T00:00:00.000000000'\n",
            " '2020-04-06T00:00:00.000000000' '2020-04-07T00:00:00.000000000'\n",
            " '2020-04-08T00:00:00.000000000' '2020-04-09T00:00:00.000000000'\n",
            " '2020-04-10T00:00:00.000000000' '2020-04-11T00:00:00.000000000'\n",
            " '2020-04-12T00:00:00.000000000' '2020-04-13T00:00:00.000000000'\n",
            " '2020-04-14T00:00:00.000000000' '2020-04-15T00:00:00.000000000'\n",
            " '2020-04-16T00:00:00.000000000' '2020-04-17T00:00:00.000000000'\n",
            " '2020-04-18T00:00:00.000000000' '2020-04-19T00:00:00.000000000'\n",
            " '2020-04-20T00:00:00.000000000' '2020-04-21T00:00:00.000000000'\n",
            " '2020-04-22T00:00:00.000000000' '2020-04-23T00:00:00.000000000'\n",
            " '2020-04-24T00:00:00.000000000' '2020-04-25T00:00:00.000000000'\n",
            " '2020-04-26T00:00:00.000000000' '2020-04-27T00:00:00.000000000'\n",
            " '2020-04-28T00:00:00.000000000' '2020-04-29T00:00:00.000000000'\n",
            " '2020-04-30T00:00:00.000000000']\n",
            "unique Value in Cough_symptoms: ['TRUE' 'FALSE' nan]\n",
            "unique Value in Fever: ['FALSE' 'TRUE' nan]\n",
            "unique Value in Sore_throat: ['TRUE' 'FALSE' nan]\n",
            "unique Value in Shortness_of_breath: ['FALSE' 'TRUE' nan]\n",
            "unique Value in Headache: ['FALSE' 'TRUE' nan]\n",
            "unique Value in Corona: ['negative' 'positive']\n",
            "unique Value in Age_60_above: ['No' 'Yes']\n",
            "unique Value in Sex: ['female' 'male']\n",
            "unique Value in Known_contact: ['Abroad' 'Contact with confirmed' 'Other']\n"
          ]
        }
      ],
      "source": [
        "for column in Covid_data:\n",
        "  unique_value=Covid_data[column].unique()\n",
        "  print(f\"unique Value in {column}:\",unique_value) # Checking Unique values in each column\n"
      ]
    },
    {
      "cell_type": "code",
      "execution_count": null,
      "metadata": {
        "colab": {
          "base_uri": "https://localhost:8080/"
        },
        "id": "3fVARChhSWw6",
        "outputId": "8deafe88-b436-4a7f-a793-3f570491b8fb"
      },
      "outputs": [
        {
          "output_type": "execute_result",
          "data": {
            "text/plain": [
              "Cough_symptoms         252\n",
              "Fever                  252\n",
              "Sore_throat              1\n",
              "Shortness_of_breath      1\n",
              "Headache                 1\n",
              "Ind_ID                   0\n",
              "Test_date                0\n",
              "Corona                   0\n",
              "Age_60_above             0\n",
              "Sex                      0\n",
              "Known_contact            0\n",
              "dtype: int64"
            ]
          },
          "metadata": {},
          "execution_count": 174
        }
      ],
      "source": [
        "#Count null values in each column of covid_data\n",
        "Covid_data.isnull().sum().sort_values(ascending=False)"
      ]
    },
    {
      "cell_type": "markdown",
      "source": [
        "Here, we can see that some columns contain null values . so we drop this null values using dropna() function"
      ],
      "metadata": {
        "id": "pSb7hbiLDhx4"
      }
    },
    {
      "cell_type": "code",
      "execution_count": null,
      "metadata": {
        "id": "RXGenabsSWzS"
      },
      "outputs": [],
      "source": [
        "Covid_data.dropna(inplace=True) #Dropping all the null values\n"
      ]
    },
    {
      "cell_type": "code",
      "execution_count": null,
      "metadata": {
        "colab": {
          "base_uri": "https://localhost:8080/"
        },
        "id": "uyjQsNaaSW2t",
        "outputId": "9e0af825-8e8c-4d20-cf71-a8176026bd72"
      },
      "outputs": [
        {
          "output_type": "execute_result",
          "data": {
            "text/plain": [
              "Ind_ID                 0\n",
              "Test_date              0\n",
              "Cough_symptoms         0\n",
              "Fever                  0\n",
              "Sore_throat            0\n",
              "Shortness_of_breath    0\n",
              "Headache               0\n",
              "Corona                 0\n",
              "Age_60_above           0\n",
              "Sex                    0\n",
              "Known_contact          0\n",
              "dtype: int64"
            ]
          },
          "metadata": {},
          "execution_count": 176
        }
      ],
      "source": [
        "#Count null values in each column of covid_data after Drop null values\n",
        "Covid_data.isnull().sum()"
      ]
    },
    {
      "cell_type": "code",
      "execution_count": null,
      "metadata": {
        "colab": {
          "base_uri": "https://localhost:8080/",
          "height": 206
        },
        "id": "gTY4d6bCSW5O",
        "outputId": "d28b92db-1a75-4890-800c-a36aeb431a18"
      },
      "outputs": [
        {
          "output_type": "execute_result",
          "data": {
            "text/plain": [
              "   Ind_ID  Test_date Cough_symptoms  Fever Sore_throat Shortness_of_breath  \\\n",
              "0       1 2020-03-11           TRUE  FALSE        TRUE               FALSE   \n",
              "1       2 2020-03-11          FALSE   TRUE       FALSE               FALSE   \n",
              "2       3 2020-03-11          FALSE   TRUE       FALSE               FALSE   \n",
              "3       4 2020-03-11           TRUE  FALSE       FALSE               FALSE   \n",
              "4       5 2020-03-11           TRUE  FALSE       FALSE               FALSE   \n",
              "\n",
              "  Headache    Corona Age_60_above     Sex           Known_contact  \n",
              "0    FALSE  negative           No  female                  Abroad  \n",
              "1    FALSE  positive           No  female                  Abroad  \n",
              "2    FALSE  positive           No  female                  Abroad  \n",
              "3    FALSE  negative           No  female                  Abroad  \n",
              "4    FALSE  negative           No  female  Contact with confirmed  "
            ],
            "text/html": [
              "\n",
              "  <div id=\"df-213ff381-7f37-4376-836f-8ca6cd223eb3\" class=\"colab-df-container\">\n",
              "    <div>\n",
              "<style scoped>\n",
              "    .dataframe tbody tr th:only-of-type {\n",
              "        vertical-align: middle;\n",
              "    }\n",
              "\n",
              "    .dataframe tbody tr th {\n",
              "        vertical-align: top;\n",
              "    }\n",
              "\n",
              "    .dataframe thead th {\n",
              "        text-align: right;\n",
              "    }\n",
              "</style>\n",
              "<table border=\"1\" class=\"dataframe\">\n",
              "  <thead>\n",
              "    <tr style=\"text-align: right;\">\n",
              "      <th></th>\n",
              "      <th>Ind_ID</th>\n",
              "      <th>Test_date</th>\n",
              "      <th>Cough_symptoms</th>\n",
              "      <th>Fever</th>\n",
              "      <th>Sore_throat</th>\n",
              "      <th>Shortness_of_breath</th>\n",
              "      <th>Headache</th>\n",
              "      <th>Corona</th>\n",
              "      <th>Age_60_above</th>\n",
              "      <th>Sex</th>\n",
              "      <th>Known_contact</th>\n",
              "    </tr>\n",
              "  </thead>\n",
              "  <tbody>\n",
              "    <tr>\n",
              "      <th>0</th>\n",
              "      <td>1</td>\n",
              "      <td>2020-03-11</td>\n",
              "      <td>TRUE</td>\n",
              "      <td>FALSE</td>\n",
              "      <td>TRUE</td>\n",
              "      <td>FALSE</td>\n",
              "      <td>FALSE</td>\n",
              "      <td>negative</td>\n",
              "      <td>No</td>\n",
              "      <td>female</td>\n",
              "      <td>Abroad</td>\n",
              "    </tr>\n",
              "    <tr>\n",
              "      <th>1</th>\n",
              "      <td>2</td>\n",
              "      <td>2020-03-11</td>\n",
              "      <td>FALSE</td>\n",
              "      <td>TRUE</td>\n",
              "      <td>FALSE</td>\n",
              "      <td>FALSE</td>\n",
              "      <td>FALSE</td>\n",
              "      <td>positive</td>\n",
              "      <td>No</td>\n",
              "      <td>female</td>\n",
              "      <td>Abroad</td>\n",
              "    </tr>\n",
              "    <tr>\n",
              "      <th>2</th>\n",
              "      <td>3</td>\n",
              "      <td>2020-03-11</td>\n",
              "      <td>FALSE</td>\n",
              "      <td>TRUE</td>\n",
              "      <td>FALSE</td>\n",
              "      <td>FALSE</td>\n",
              "      <td>FALSE</td>\n",
              "      <td>positive</td>\n",
              "      <td>No</td>\n",
              "      <td>female</td>\n",
              "      <td>Abroad</td>\n",
              "    </tr>\n",
              "    <tr>\n",
              "      <th>3</th>\n",
              "      <td>4</td>\n",
              "      <td>2020-03-11</td>\n",
              "      <td>TRUE</td>\n",
              "      <td>FALSE</td>\n",
              "      <td>FALSE</td>\n",
              "      <td>FALSE</td>\n",
              "      <td>FALSE</td>\n",
              "      <td>negative</td>\n",
              "      <td>No</td>\n",
              "      <td>female</td>\n",
              "      <td>Abroad</td>\n",
              "    </tr>\n",
              "    <tr>\n",
              "      <th>4</th>\n",
              "      <td>5</td>\n",
              "      <td>2020-03-11</td>\n",
              "      <td>TRUE</td>\n",
              "      <td>FALSE</td>\n",
              "      <td>FALSE</td>\n",
              "      <td>FALSE</td>\n",
              "      <td>FALSE</td>\n",
              "      <td>negative</td>\n",
              "      <td>No</td>\n",
              "      <td>female</td>\n",
              "      <td>Contact with confirmed</td>\n",
              "    </tr>\n",
              "  </tbody>\n",
              "</table>\n",
              "</div>\n",
              "    <div class=\"colab-df-buttons\">\n",
              "\n",
              "  <div class=\"colab-df-container\">\n",
              "    <button class=\"colab-df-convert\" onclick=\"convertToInteractive('df-213ff381-7f37-4376-836f-8ca6cd223eb3')\"\n",
              "            title=\"Convert this dataframe to an interactive table.\"\n",
              "            style=\"display:none;\">\n",
              "\n",
              "  <svg xmlns=\"http://www.w3.org/2000/svg\" height=\"24px\" viewBox=\"0 -960 960 960\">\n",
              "    <path d=\"M120-120v-720h720v720H120Zm60-500h600v-160H180v160Zm220 220h160v-160H400v160Zm0 220h160v-160H400v160ZM180-400h160v-160H180v160Zm440 0h160v-160H620v160ZM180-180h160v-160H180v160Zm440 0h160v-160H620v160Z\"/>\n",
              "  </svg>\n",
              "    </button>\n",
              "\n",
              "  <style>\n",
              "    .colab-df-container {\n",
              "      display:flex;\n",
              "      gap: 12px;\n",
              "    }\n",
              "\n",
              "    .colab-df-convert {\n",
              "      background-color: #E8F0FE;\n",
              "      border: none;\n",
              "      border-radius: 50%;\n",
              "      cursor: pointer;\n",
              "      display: none;\n",
              "      fill: #1967D2;\n",
              "      height: 32px;\n",
              "      padding: 0 0 0 0;\n",
              "      width: 32px;\n",
              "    }\n",
              "\n",
              "    .colab-df-convert:hover {\n",
              "      background-color: #E2EBFA;\n",
              "      box-shadow: 0px 1px 2px rgba(60, 64, 67, 0.3), 0px 1px 3px 1px rgba(60, 64, 67, 0.15);\n",
              "      fill: #174EA6;\n",
              "    }\n",
              "\n",
              "    .colab-df-buttons div {\n",
              "      margin-bottom: 4px;\n",
              "    }\n",
              "\n",
              "    [theme=dark] .colab-df-convert {\n",
              "      background-color: #3B4455;\n",
              "      fill: #D2E3FC;\n",
              "    }\n",
              "\n",
              "    [theme=dark] .colab-df-convert:hover {\n",
              "      background-color: #434B5C;\n",
              "      box-shadow: 0px 1px 3px 1px rgba(0, 0, 0, 0.15);\n",
              "      filter: drop-shadow(0px 1px 2px rgba(0, 0, 0, 0.3));\n",
              "      fill: #FFFFFF;\n",
              "    }\n",
              "  </style>\n",
              "\n",
              "    <script>\n",
              "      const buttonEl =\n",
              "        document.querySelector('#df-213ff381-7f37-4376-836f-8ca6cd223eb3 button.colab-df-convert');\n",
              "      buttonEl.style.display =\n",
              "        google.colab.kernel.accessAllowed ? 'block' : 'none';\n",
              "\n",
              "      async function convertToInteractive(key) {\n",
              "        const element = document.querySelector('#df-213ff381-7f37-4376-836f-8ca6cd223eb3');\n",
              "        const dataTable =\n",
              "          await google.colab.kernel.invokeFunction('convertToInteractive',\n",
              "                                                    [key], {});\n",
              "        if (!dataTable) return;\n",
              "\n",
              "        const docLinkHtml = 'Like what you see? Visit the ' +\n",
              "          '<a target=\"_blank\" href=https://colab.research.google.com/notebooks/data_table.ipynb>data table notebook</a>'\n",
              "          + ' to learn more about interactive tables.';\n",
              "        element.innerHTML = '';\n",
              "        dataTable['output_type'] = 'display_data';\n",
              "        await google.colab.output.renderOutput(dataTable, element);\n",
              "        const docLink = document.createElement('div');\n",
              "        docLink.innerHTML = docLinkHtml;\n",
              "        element.appendChild(docLink);\n",
              "      }\n",
              "    </script>\n",
              "  </div>\n",
              "\n",
              "\n",
              "<div id=\"df-46174660-7042-4f3f-b02d-b11e6ff59967\">\n",
              "  <button class=\"colab-df-quickchart\" onclick=\"quickchart('df-46174660-7042-4f3f-b02d-b11e6ff59967')\"\n",
              "            title=\"Suggest charts\"\n",
              "            style=\"display:none;\">\n",
              "\n",
              "<svg xmlns=\"http://www.w3.org/2000/svg\" height=\"24px\"viewBox=\"0 0 24 24\"\n",
              "     width=\"24px\">\n",
              "    <g>\n",
              "        <path d=\"M19 3H5c-1.1 0-2 .9-2 2v14c0 1.1.9 2 2 2h14c1.1 0 2-.9 2-2V5c0-1.1-.9-2-2-2zM9 17H7v-7h2v7zm4 0h-2V7h2v10zm4 0h-2v-4h2v4z\"/>\n",
              "    </g>\n",
              "</svg>\n",
              "  </button>\n",
              "\n",
              "<style>\n",
              "  .colab-df-quickchart {\n",
              "      --bg-color: #E8F0FE;\n",
              "      --fill-color: #1967D2;\n",
              "      --hover-bg-color: #E2EBFA;\n",
              "      --hover-fill-color: #174EA6;\n",
              "      --disabled-fill-color: #AAA;\n",
              "      --disabled-bg-color: #DDD;\n",
              "  }\n",
              "\n",
              "  [theme=dark] .colab-df-quickchart {\n",
              "      --bg-color: #3B4455;\n",
              "      --fill-color: #D2E3FC;\n",
              "      --hover-bg-color: #434B5C;\n",
              "      --hover-fill-color: #FFFFFF;\n",
              "      --disabled-bg-color: #3B4455;\n",
              "      --disabled-fill-color: #666;\n",
              "  }\n",
              "\n",
              "  .colab-df-quickchart {\n",
              "    background-color: var(--bg-color);\n",
              "    border: none;\n",
              "    border-radius: 50%;\n",
              "    cursor: pointer;\n",
              "    display: none;\n",
              "    fill: var(--fill-color);\n",
              "    height: 32px;\n",
              "    padding: 0;\n",
              "    width: 32px;\n",
              "  }\n",
              "\n",
              "  .colab-df-quickchart:hover {\n",
              "    background-color: var(--hover-bg-color);\n",
              "    box-shadow: 0 1px 2px rgba(60, 64, 67, 0.3), 0 1px 3px 1px rgba(60, 64, 67, 0.15);\n",
              "    fill: var(--button-hover-fill-color);\n",
              "  }\n",
              "\n",
              "  .colab-df-quickchart-complete:disabled,\n",
              "  .colab-df-quickchart-complete:disabled:hover {\n",
              "    background-color: var(--disabled-bg-color);\n",
              "    fill: var(--disabled-fill-color);\n",
              "    box-shadow: none;\n",
              "  }\n",
              "\n",
              "  .colab-df-spinner {\n",
              "    border: 2px solid var(--fill-color);\n",
              "    border-color: transparent;\n",
              "    border-bottom-color: var(--fill-color);\n",
              "    animation:\n",
              "      spin 1s steps(1) infinite;\n",
              "  }\n",
              "\n",
              "  @keyframes spin {\n",
              "    0% {\n",
              "      border-color: transparent;\n",
              "      border-bottom-color: var(--fill-color);\n",
              "      border-left-color: var(--fill-color);\n",
              "    }\n",
              "    20% {\n",
              "      border-color: transparent;\n",
              "      border-left-color: var(--fill-color);\n",
              "      border-top-color: var(--fill-color);\n",
              "    }\n",
              "    30% {\n",
              "      border-color: transparent;\n",
              "      border-left-color: var(--fill-color);\n",
              "      border-top-color: var(--fill-color);\n",
              "      border-right-color: var(--fill-color);\n",
              "    }\n",
              "    40% {\n",
              "      border-color: transparent;\n",
              "      border-right-color: var(--fill-color);\n",
              "      border-top-color: var(--fill-color);\n",
              "    }\n",
              "    60% {\n",
              "      border-color: transparent;\n",
              "      border-right-color: var(--fill-color);\n",
              "    }\n",
              "    80% {\n",
              "      border-color: transparent;\n",
              "      border-right-color: var(--fill-color);\n",
              "      border-bottom-color: var(--fill-color);\n",
              "    }\n",
              "    90% {\n",
              "      border-color: transparent;\n",
              "      border-bottom-color: var(--fill-color);\n",
              "    }\n",
              "  }\n",
              "</style>\n",
              "\n",
              "  <script>\n",
              "    async function quickchart(key) {\n",
              "      const quickchartButtonEl =\n",
              "        document.querySelector('#' + key + ' button');\n",
              "      quickchartButtonEl.disabled = true;  // To prevent multiple clicks.\n",
              "      quickchartButtonEl.classList.add('colab-df-spinner');\n",
              "      try {\n",
              "        const charts = await google.colab.kernel.invokeFunction(\n",
              "            'suggestCharts', [key], {});\n",
              "      } catch (error) {\n",
              "        console.error('Error during call to suggestCharts:', error);\n",
              "      }\n",
              "      quickchartButtonEl.classList.remove('colab-df-spinner');\n",
              "      quickchartButtonEl.classList.add('colab-df-quickchart-complete');\n",
              "    }\n",
              "    (() => {\n",
              "      let quickchartButtonEl =\n",
              "        document.querySelector('#df-46174660-7042-4f3f-b02d-b11e6ff59967 button');\n",
              "      quickchartButtonEl.style.display =\n",
              "        google.colab.kernel.accessAllowed ? 'block' : 'none';\n",
              "    })();\n",
              "  </script>\n",
              "</div>\n",
              "\n",
              "    </div>\n",
              "  </div>\n"
            ]
          },
          "metadata": {},
          "execution_count": 177
        }
      ],
      "source": [
        "Covid_data.head()\n"
      ]
    },
    {
      "cell_type": "code",
      "source": [
        "# After cleaning we are saving our file for mysql analysis.\n",
        "\n",
        "Covid_data.to_csv('covid_modified.csv')"
      ],
      "metadata": {
        "id": "TlmkJ54YdEKU"
      },
      "execution_count": null,
      "outputs": []
    },
    {
      "cell_type": "markdown",
      "source": [
        "# Data Visualization and EDA"
      ],
      "metadata": {
        "id": "_fF54MJ16Ysq"
      }
    },
    {
      "cell_type": "code",
      "execution_count": null,
      "metadata": {
        "colab": {
          "base_uri": "https://localhost:8080/",
          "height": 564
        },
        "id": "L65kxikR14DQ",
        "outputId": "133f0a1c-fb6f-4201-8d2d-4c52ce8beaf5"
      },
      "outputs": [
        {
          "output_type": "display_data",
          "data": {
            "text/plain": [
              "<Figure size 800x600 with 1 Axes>"
            ],
            "image/png": "[encoded data removed]"
          },
          "metadata": {}
        }
      ],
      "source": [
        "#  Visualize the data to identify patterns and correlations\n",
        "\n",
        "plt.figure(figsize=(8, 6))\n",
        "sns.countplot(x='Corona', data=Covid_data, palette='viridis')\n",
        "\n",
        "# Add value counts on top of the bars\n",
        "for index, value in enumerate(Covid_data['Corona'].value_counts()):\n",
        "    plt.text(index, value + 5, str(value), ha='center', va='bottom')\n",
        "\n",
        "plt.title('Distribution of COVID-19 Cases')\n",
        "plt.xlabel('COVID-19 Diagnosis')\n",
        "plt.ylabel('Count')\n",
        "plt.show()\n"
      ]
    },
    {
      "cell_type": "markdown",
      "source": [
        "we have a dataset with 278,848 records related to COVID-19 testing and from the above bar graph we can categorized the result into three groups:\n",
        "\n",
        "positive_cases (14,694),\n",
        "\n",
        "negative_cases (2,60,008),\n",
        "\n",
        "and other_cases (3,892).\n",
        "\n",
        "so my positive_case rate is 14,694/2,78,848 = 0.052%\n",
        "\n",
        "negative case rate 2,60,008 / 2,78,848 = 0.93%\n",
        "\n",
        "so this graph indicating that our dataset is imbalanced."
      ],
      "metadata": {
        "id": "V2zZnQ8jIdIx"
      }
    },
    {
      "cell_type": "markdown",
      "metadata": {
        "id": "OkGmLBly2VSW"
      },
      "source": [
        "Adding Value Counts on Top of Bars:\n",
        "\n",
        "for index, value in enumerate(Covid_data['Corona'].value_counts()): iterates over the value counts of each category in the 'Corona' column.\n",
        "plt.text(index, value + 5, str(value), ha='center', va='bottom') adds text labels on top of each bar. It places the count value (value) at the corresponding x-coordinate (index). The +5 is used to provide some space between the bar and the label. The ha and va parameters control the horizontal and vertical alignment, respectively.\n",
        "\n",
        "\n",
        "The enumerate function is used to iterate over the counts of each category.\n",
        "The plt.text function is then used to add the count value on top of each bar."
      ]
    },
    {
      "cell_type": "code",
      "execution_count": null,
      "metadata": {
        "colab": {
          "base_uri": "https://localhost:8080/",
          "height": 675
        },
        "id": "yz5PipmLqWaC",
        "outputId": "a9434d85-e24e-48d1-e1ac-5bb0bbaa1682"
      },
      "outputs": [
        {
          "output_type": "display_data",
          "data": {
            "text/plain": [
              "<Figure size 800x800 with 1 Axes>"
            ],
            "image/png": "[encoded data removed]"
          },
          "metadata": {}
        }
      ],
      "source": [
        "\n",
        "Covid_data['Test_date'] = pd.to_datetime(Covid_data['Test_date'])\n",
        "\n",
        "# Extract the month from the 'Test_date' column\n",
        "Covid_data['month'] = Covid_data['Test_date'].dt.month\n",
        "\n",
        "# Filter the data for positive COVID-19 cases\n",
        "positive_cases = Covid_data[Covid_data['Corona'] == 'positive']\n",
        "\n",
        "# Count the occurrences of positive cases for each month\n",
        "month_counts = positive_cases['month'].value_counts()\n",
        "\n",
        "# Create a pie chart for month-wise positive cases\n",
        "plt.figure(figsize=(8, 8))\n",
        "plt.pie(month_counts, labels=month_counts.index, autopct='%1.1f%%', startangle=90, colors=sns.color_palette('viridis'))\n",
        "plt.title('Distribution of COVID-19 Positive Cases by Month')\n",
        "plt.show()\n"
      ]
    },
    {
      "cell_type": "markdown",
      "source": [
        "from above pie chart we can see that in 3rd month(march) we got 39.7% of positive cases  and in 4th month (april) we got 60.3% of the total  positive cases ."
      ],
      "metadata": {
        "id": "7g_np1SMKxuJ"
      }
    },
    {
      "cell_type": "code",
      "execution_count": null,
      "metadata": {
        "colab": {
          "base_uri": "https://localhost:8080/",
          "height": 564
        },
        "id": "OZapCKQE3pzl",
        "outputId": "5422dc03-14a3-4355-92a8-169e20be9b29"
      },
      "outputs": [
        {
          "output_type": "display_data",
          "data": {
            "text/plain": [
              "<Figure size 800x600 with 1 Axes>"
            ],
            "image/png": "[encoded data removed]"
          },
          "metadata": {}
        }
      ],
      "source": [
        "\n",
        "plt.figure(figsize=(8, 6))\n",
        "sns.countplot(x='Fever', data=Covid_data, palette='viridis')\n",
        "\n",
        "# Add value counts on top of the bars\n",
        "for index, value in enumerate(Covid_data['Fever'].value_counts()):\n",
        "    plt.text(index, value + 5, str(value), ha='center', va='bottom')\n",
        "\n",
        "plt.title('Distribution of COVID-19 Cases based on Fever')\n",
        "plt.xlabel('Fever')\n",
        "plt.ylabel('Count')\n",
        "plt.show()\n"
      ]
    },
    {
      "cell_type": "markdown",
      "source": [
        "from above bar plot we  observed that 21,751 people in our dataset were identified as having a fever."
      ],
      "metadata": {
        "id": "ZOIKmykPOiI_"
      }
    },
    {
      "cell_type": "code",
      "execution_count": null,
      "metadata": {
        "colab": {
          "base_uri": "https://localhost:8080/",
          "height": 564
        },
        "id": "OBJrvljE4Zip",
        "outputId": "9f654e1c-9875-4a7f-8700-9a8a8534e55d"
      },
      "outputs": [
        {
          "output_type": "display_data",
          "data": {
            "text/plain": [
              "<Figure size 800x600 with 1 Axes>"
            ],
            "image/png": "[encoded data removed]"
          },
          "metadata": {}
        }
      ],
      "source": [
        "\n",
        "plt.figure(figsize=(8, 6))\n",
        "sns.countplot(x='Shortness_of_breath', data=Covid_data, palette='viridis')\n",
        "\n",
        "# Add value counts on top of the bars\n",
        "for index, value in enumerate(Covid_data['Shortness_of_breath'].value_counts()):\n",
        "    plt.text(index, value + 5, str(value), ha='center', va='bottom')\n",
        "\n",
        "plt.title('Distribution of COVID-19 Cases based on Shortness_of_breath')\n",
        "plt.xlabel('Shortness_of_breath')\n",
        "plt.ylabel('Count')\n",
        "plt.show()\n"
      ]
    },
    {
      "cell_type": "markdown",
      "source": [
        "from above bar plot we  observed that 1574 people in our dataset were identified as having a Shortness_of_breath."
      ],
      "metadata": {
        "id": "lgLiT2Y-PYvV"
      }
    },
    {
      "cell_type": "code",
      "execution_count": null,
      "metadata": {
        "colab": {
          "base_uri": "https://localhost:8080/",
          "height": 564
        },
        "id": "mZMsexlD41KW",
        "outputId": "493761d6-495f-455c-bcc4-4328595f5f6d"
      },
      "outputs": [
        {
          "output_type": "display_data",
          "data": {
            "text/plain": [
              "<Figure size 800x600 with 1 Axes>"
            ],
            "image/png": "[encoded data removed]"
          },
          "metadata": {}
        }
      ],
      "source": [
        "\n",
        "plt.figure(figsize=(8, 6))\n",
        "sns.countplot(x='Headache', data=Covid_data, palette='viridis')\n",
        "\n",
        "# Add value counts on top of the bars\n",
        "for index, value in enumerate(Covid_data['Headache'].value_counts()):\n",
        "    plt.text(index, value + 5, str(value), ha='center', va='bottom')\n",
        "\n",
        "plt.title('Distribution of COVID-19 Cases based on Headache')\n",
        "plt.xlabel('Headache')\n",
        "plt.ylabel('Count')\n",
        "plt.show()\n"
      ]
    },
    {
      "cell_type": "markdown",
      "source": [
        "from above bar plot we  observed that 2408 people in our dataset were identified as having a Headache."
      ],
      "metadata": {
        "id": "P9k3-NPEPhZe"
      }
    },
    {
      "cell_type": "code",
      "source": [
        "# Deleting unnecessary columns\n",
        "\n",
        "\n",
        "Covid_data = Covid_data.drop(columns=['Ind_ID','Test_date'])"
      ],
      "metadata": {
        "id": "Yc1fPU11qy3j"
      },
      "execution_count": null,
      "outputs": []
    },
    {
      "cell_type": "markdown",
      "source": [
        ":# Encoding for Covid_data data"
      ],
      "metadata": {
        "id": "GYT5xMfQhUEU"
      }
    },
    {
      "cell_type": "code",
      "source": [
        "Covid_data['Cough_symptoms'] = Covid_data['Cough_symptoms'].map ({'TRUE':1 ,'FALSE':0 })"
      ],
      "metadata": {
        "id": "w1f7Qrb2hf6D"
      },
      "execution_count": null,
      "outputs": []
    },
    {
      "cell_type": "code",
      "source": [
        "Covid_data['Fever'] = Covid_data['Fever'].map ({'TRUE':1 ,'FALSE':0 })"
      ],
      "metadata": {
        "id": "-PlRDUwXh1za"
      },
      "execution_count": null,
      "outputs": []
    },
    {
      "cell_type": "code",
      "source": [
        "Covid_data['Sore_throat'] = Covid_data['Sore_throat'].map ({'TRUE':1 ,'FALSE':0 })"
      ],
      "metadata": {
        "id": "itsbsacqiObQ"
      },
      "execution_count": null,
      "outputs": []
    },
    {
      "cell_type": "code",
      "source": [
        "Covid_data['Shortness_of_breath'] = Covid_data['Shortness_of_breath'].map ({'TRUE':1 ,'FALSE':0 })"
      ],
      "metadata": {
        "id": "4MYPt6EEiUa0"
      },
      "execution_count": null,
      "outputs": []
    },
    {
      "cell_type": "code",
      "source": [
        "Covid_data['Headache'] = Covid_data['Headache'].map ({'TRUE':1 ,'FALSE':0 })"
      ],
      "metadata": {
        "id": "sLPVyLLhiV9r"
      },
      "execution_count": null,
      "outputs": []
    },
    {
      "cell_type": "code",
      "source": [
        "Covid_data['Corona'] = Covid_data['Corona'].map ({'positive':1 ,'negative':0,'other':2 })"
      ],
      "metadata": {
        "id": "WQwf3nzmiWjA"
      },
      "execution_count": null,
      "outputs": []
    },
    {
      "cell_type": "code",
      "source": [
        "Covid_data['Age_60_above'] = Covid_data['Age_60_above'].map ({'Yes':1 ,'No':0 })"
      ],
      "metadata": {
        "id": "rZHZi-lgYRRW"
      },
      "execution_count": null,
      "outputs": []
    },
    {
      "cell_type": "code",
      "source": [
        "Covid_data['Sex'] = Covid_data['Sex'].map ({'male':1 ,'female':0 })"
      ],
      "metadata": {
        "id": "JYHh2AY0r1pn"
      },
      "execution_count": null,
      "outputs": []
    },
    {
      "cell_type": "code",
      "source": [
        "Covid_data['Known_contact'] = Covid_data['Known_contact'].map ({'Other':1 ,'Abroad':0,'Contact with confirmed':2 })"
      ],
      "metadata": {
        "id": "oHArW94BjDWe"
      },
      "execution_count": null,
      "outputs": []
    },
    {
      "cell_type": "code",
      "source": [
        "Covid_data.head()\n"
      ],
      "metadata": {
        "colab": {
          "base_uri": "https://localhost:8080/",
          "height": 206
        },
        "id": "Nn3Hvy8FjkJA",
        "outputId": "59b66540-5b1b-4a53-bc41-2cfda9e3d32c"
      },
      "execution_count": null,
      "outputs": [
        {
          "output_type": "execute_result",
          "data": {
            "text/plain": [
              "   Cough_symptoms  Fever  Sore_throat  Shortness_of_breath  Headache  Corona  \\\n",
              "0               1      0            1                    0         0       0   \n",
              "1               0      1            0                    0         0       1   \n",
              "2               0      1            0                    0         0       1   \n",
              "3               1      0            0                    0         0       0   \n",
              "4               1      0            0                    0         0       0   \n",
              "\n",
              "   Age_60_above  Sex  Known_contact  month  \n",
              "0             0    0              0      3  \n",
              "1             0    0              0      3  \n",
              "2             0    0              0      3  \n",
              "3             0    0              0      3  \n",
              "4             0    0              2      3  "
            ],
            "text/html": [
              "\n",
              "  <div id=\"df-97dade4f-80ec-444a-9777-e0ab541ed9dc\" class=\"colab-df-container\">\n",
              "    <div>\n",
              "<style scoped>\n",
              "    .dataframe tbody tr th:only-of-type {\n",
              "        vertical-align: middle;\n",
              "    }\n",
              "\n",
              "    .dataframe tbody tr th {\n",
              "        vertical-align: top;\n",
              "    }\n",
              "\n",
              "    .dataframe thead th {\n",
              "        text-align: right;\n",
              "    }\n",
              "</style>\n",
              "<table border=\"1\" class=\"dataframe\">\n",
              "  <thead>\n",
              "    <tr style=\"text-align: right;\">\n",
              "      <th></th>\n",
              "      <th>Cough_symptoms</th>\n",
              "      <th>Fever</th>\n",
              "      <th>Sore_throat</th>\n",
              "      <th>Shortness_of_breath</th>\n",
              "      <th>Headache</th>\n",
              "      <th>Corona</th>\n",
              "      <th>Age_60_above</th>\n",
              "      <th>Sex</th>\n",
              "      <th>Known_contact</th>\n",
              "      <th>month</th>\n",
              "    </tr>\n",
              "  </thead>\n",
              "  <tbody>\n",
              "    <tr>\n",
              "      <th>0</th>\n",
              "      <td>1</td>\n",
              "      <td>0</td>\n",
              "      <td>1</td>\n",
              "      <td>0</td>\n",
              "      <td>0</td>\n",
              "      <td>0</td>\n",
              "      <td>0</td>\n",
              "      <td>0</td>\n",
              "      <td>0</td>\n",
              "      <td>3</td>\n",
              "    </tr>\n",
              "    <tr>\n",
              "      <th>1</th>\n",
              "      <td>0</td>\n",
              "      <td>1</td>\n",
              "      <td>0</td>\n",
              "      <td>0</td>\n",
              "      <td>0</td>\n",
              "      <td>1</td>\n",
              "      <td>0</td>\n",
              "      <td>0</td>\n",
              "      <td>0</td>\n",
              "      <td>3</td>\n",
              "    </tr>\n",
              "    <tr>\n",
              "      <th>2</th>\n",
              "      <td>0</td>\n",
              "      <td>1</td>\n",
              "      <td>0</td>\n",
              "      <td>0</td>\n",
              "      <td>0</td>\n",
              "      <td>1</td>\n",
              "      <td>0</td>\n",
              "      <td>0</td>\n",
              "      <td>0</td>\n",
              "      <td>3</td>\n",
              "    </tr>\n",
              "    <tr>\n",
              "      <th>3</th>\n",
              "      <td>1</td>\n",
              "      <td>0</td>\n",
              "      <td>0</td>\n",
              "      <td>0</td>\n",
              "      <td>0</td>\n",
              "      <td>0</td>\n",
              "      <td>0</td>\n",
              "      <td>0</td>\n",
              "      <td>0</td>\n",
              "      <td>3</td>\n",
              "    </tr>\n",
              "    <tr>\n",
              "      <th>4</th>\n",
              "      <td>1</td>\n",
              "      <td>0</td>\n",
              "      <td>0</td>\n",
              "      <td>0</td>\n",
              "      <td>0</td>\n",
              "      <td>0</td>\n",
              "      <td>0</td>\n",
              "      <td>0</td>\n",
              "      <td>2</td>\n",
              "      <td>3</td>\n",
              "    </tr>\n",
              "  </tbody>\n",
              "</table>\n",
              "</div>\n",
              "    <div class=\"colab-df-buttons\">\n",
              "\n",
              "  <div class=\"colab-df-container\">\n",
              "    <button class=\"colab-df-convert\" onclick=\"convertToInteractive('df-97dade4f-80ec-444a-9777-e0ab541ed9dc')\"\n",
              "            title=\"Convert this dataframe to an interactive table.\"\n",
              "            style=\"display:none;\">\n",
              "\n",
              "  <svg xmlns=\"http://www.w3.org/2000/svg\" height=\"24px\" viewBox=\"0 -960 960 960\">\n",
              "    <path d=\"M120-120v-720h720v720H120Zm60-500h600v-160H180v160Zm220 220h160v-160H400v160Zm0 220h160v-160H400v160ZM180-400h160v-160H180v160Zm440 0h160v-160H620v160ZM180-180h160v-160H180v160Zm440 0h160v-160H620v160Z\"/>\n",
              "  </svg>\n",
              "    </button>\n",
              "\n",
              "  <style>\n",
              "    .colab-df-container {\n",
              "      display:flex;\n",
              "      gap: 12px;\n",
              "    }\n",
              "\n",
              "    .colab-df-convert {\n",
              "      background-color: #E8F0FE;\n",
              "      border: none;\n",
              "      border-radius: 50%;\n",
              "      cursor: pointer;\n",
              "      display: none;\n",
              "      fill: #1967D2;\n",
              "      height: 32px;\n",
              "      padding: 0 0 0 0;\n",
              "      width: 32px;\n",
              "    }\n",
              "\n",
              "    .colab-df-convert:hover {\n",
              "      background-color: #E2EBFA;\n",
              "      box-shadow: 0px 1px 2px rgba(60, 64, 67, 0.3), 0px 1px 3px 1px rgba(60, 64, 67, 0.15);\n",
              "      fill: #174EA6;\n",
              "    }\n",
              "\n",
              "    .colab-df-buttons div {\n",
              "      margin-bottom: 4px;\n",
              "    }\n",
              "\n",
              "    [theme=dark] .colab-df-convert {\n",
              "      background-color: #3B4455;\n",
              "      fill: #D2E3FC;\n",
              "    }\n",
              "\n",
              "    [theme=dark] .colab-df-convert:hover {\n",
              "      background-color: #434B5C;\n",
              "      box-shadow: 0px 1px 3px 1px rgba(0, 0, 0, 0.15);\n",
              "      filter: drop-shadow(0px 1px 2px rgba(0, 0, 0, 0.3));\n",
              "      fill: #FFFFFF;\n",
              "    }\n",
              "  </style>\n",
              "\n",
              "    <script>\n",
              "      const buttonEl =\n",
              "        document.querySelector('#df-97dade4f-80ec-444a-9777-e0ab541ed9dc button.colab-df-convert');\n",
              "      buttonEl.style.display =\n",
              "        google.colab.kernel.accessAllowed ? 'block' : 'none';\n",
              "\n",
              "      async function convertToInteractive(key) {\n",
              "        const element = document.querySelector('#df-97dade4f-80ec-444a-9777-e0ab541ed9dc');\n",
              "        const dataTable =\n",
              "          await google.colab.kernel.invokeFunction('convertToInteractive',\n",
              "                                                    [key], {});\n",
              "        if (!dataTable) return;\n",
              "\n",
              "        const docLinkHtml = 'Like what you see? Visit the ' +\n",
              "          '<a target=\"_blank\" href=https://colab.research.google.com/notebooks/data_table.ipynb>data table notebook</a>'\n",
              "          + ' to learn more about interactive tables.';\n",
              "        element.innerHTML = '';\n",
              "        dataTable['output_type'] = 'display_data';\n",
              "        await google.colab.output.renderOutput(dataTable, element);\n",
              "        const docLink = document.createElement('div');\n",
              "        docLink.innerHTML = docLinkHtml;\n",
              "        element.appendChild(docLink);\n",
              "      }\n",
              "    </script>\n",
              "  </div>\n",
              "\n",
              "\n",
              "<div id=\"df-2f1ace03-7e62-4c16-a9ae-67b0e75d43ff\">\n",
              "  <button class=\"colab-df-quickchart\" onclick=\"quickchart('df-2f1ace03-7e62-4c16-a9ae-67b0e75d43ff')\"\n",
              "            title=\"Suggest charts\"\n",
              "            style=\"display:none;\">\n",
              "\n",
              "<svg xmlns=\"http://www.w3.org/2000/svg\" height=\"24px\"viewBox=\"0 0 24 24\"\n",
              "     width=\"24px\">\n",
              "    <g>\n",
              "        <path d=\"M19 3H5c-1.1 0-2 .9-2 2v14c0 1.1.9 2 2 2h14c1.1 0 2-.9 2-2V5c0-1.1-.9-2-2-2zM9 17H7v-7h2v7zm4 0h-2V7h2v10zm4 0h-2v-4h2v4z\"/>\n",
              "    </g>\n",
              "</svg>\n",
              "  </button>\n",
              "\n",
              "<style>\n",
              "  .colab-df-quickchart {\n",
              "      --bg-color: #E8F0FE;\n",
              "      --fill-color: #1967D2;\n",
              "      --hover-bg-color: #E2EBFA;\n",
              "      --hover-fill-color: #174EA6;\n",
              "      --disabled-fill-color: #AAA;\n",
              "      --disabled-bg-color: #DDD;\n",
              "  }\n",
              "\n",
              "  [theme=dark] .colab-df-quickchart {\n",
              "      --bg-color: #3B4455;\n",
              "      --fill-color: #D2E3FC;\n",
              "      --hover-bg-color: #434B5C;\n",
              "      --hover-fill-color: #FFFFFF;\n",
              "      --disabled-bg-color: #3B4455;\n",
              "      --disabled-fill-color: #666;\n",
              "  }\n",
              "\n",
              "  .colab-df-quickchart {\n",
              "    background-color: var(--bg-color);\n",
              "    border: none;\n",
              "    border-radius: 50%;\n",
              "    cursor: pointer;\n",
              "    display: none;\n",
              "    fill: var(--fill-color);\n",
              "    height: 32px;\n",
              "    padding: 0;\n",
              "    width: 32px;\n",
              "  }\n",
              "\n",
              "  .colab-df-quickchart:hover {\n",
              "    background-color: var(--hover-bg-color);\n",
              "    box-shadow: 0 1px 2px rgba(60, 64, 67, 0.3), 0 1px 3px 1px rgba(60, 64, 67, 0.15);\n",
              "    fill: var(--button-hover-fill-color);\n",
              "  }\n",
              "\n",
              "  .colab-df-quickchart-complete:disabled,\n",
              "  .colab-df-quickchart-complete:disabled:hover {\n",
              "    background-color: var(--disabled-bg-color);\n",
              "    fill: var(--disabled-fill-color);\n",
              "    box-shadow: none;\n",
              "  }\n",
              "\n",
              "  .colab-df-spinner {\n",
              "    border: 2px solid var(--fill-color);\n",
              "    border-color: transparent;\n",
              "    border-bottom-color: var(--fill-color);\n",
              "    animation:\n",
              "      spin 1s steps(1) infinite;\n",
              "  }\n",
              "\n",
              "  @keyframes spin {\n",
              "    0% {\n",
              "      border-color: transparent;\n",
              "      border-bottom-color: var(--fill-color);\n",
              "      border-left-color: var(--fill-color);\n",
              "    }\n",
              "    20% {\n",
              "      border-color: transparent;\n",
              "      border-left-color: var(--fill-color);\n",
              "      border-top-color: var(--fill-color);\n",
              "    }\n",
              "    30% {\n",
              "      border-color: transparent;\n",
              "      border-left-color: var(--fill-color);\n",
              "      border-top-color: var(--fill-color);\n",
              "      border-right-color: var(--fill-color);\n",
              "    }\n",
              "    40% {\n",
              "      border-color: transparent;\n",
              "      border-right-color: var(--fill-color);\n",
              "      border-top-color: var(--fill-color);\n",
              "    }\n",
              "    60% {\n",
              "      border-color: transparent;\n",
              "      border-right-color: var(--fill-color);\n",
              "    }\n",
              "    80% {\n",
              "      border-color: transparent;\n",
              "      border-right-color: var(--fill-color);\n",
              "      border-bottom-color: var(--fill-color);\n",
              "    }\n",
              "    90% {\n",
              "      border-color: transparent;\n",
              "      border-bottom-color: var(--fill-color);\n",
              "    }\n",
              "  }\n",
              "</style>\n",
              "\n",
              "  <script>\n",
              "    async function quickchart(key) {\n",
              "      const quickchartButtonEl =\n",
              "        document.querySelector('#' + key + ' button');\n",
              "      quickchartButtonEl.disabled = true;  // To prevent multiple clicks.\n",
              "      quickchartButtonEl.classList.add('colab-df-spinner');\n",
              "      try {\n",
              "        const charts = await google.colab.kernel.invokeFunction(\n",
              "            'suggestCharts', [key], {});\n",
              "      } catch (error) {\n",
              "        console.error('Error during call to suggestCharts:', error);\n",
              "      }\n",
              "      quickchartButtonEl.classList.remove('colab-df-spinner');\n",
              "      quickchartButtonEl.classList.add('colab-df-quickchart-complete');\n",
              "    }\n",
              "    (() => {\n",
              "      let quickchartButtonEl =\n",
              "        document.querySelector('#df-2f1ace03-7e62-4c16-a9ae-67b0e75d43ff button');\n",
              "      quickchartButtonEl.style.display =\n",
              "        google.colab.kernel.accessAllowed ? 'block' : 'none';\n",
              "    })();\n",
              "  </script>\n",
              "</div>\n",
              "\n",
              "    </div>\n",
              "  </div>\n"
            ]
          },
          "metadata": {},
          "execution_count": 194
        }
      ]
    },
    {
      "cell_type": "markdown",
      "source": [
        "# EDA-2"
      ],
      "metadata": {
        "id": "hzH6ll_hrTIe"
      }
    },
    {
      "cell_type": "code",
      "source": [
        "# Assuming Covid_data is your DataFrame containing your dataset\n",
        "correlation_matrix = Covid_data.corr()\n",
        "\n",
        "# Display the correlation matrix\n",
        "print(correlation_matrix)\n"
      ],
      "metadata": {
        "colab": {
          "base_uri": "https://localhost:8080/"
        },
        "id": "zwHYomzyrSM-",
        "outputId": "6d7f51df-e61e-4e68-f475-0eda113c0e6b"
      },
      "execution_count": null,
      "outputs": [
        {
          "output_type": "stream",
          "name": "stdout",
          "text": [
            "                     Cough_symptoms     Fever  Sore_throat  \\\n",
            "Cough_symptoms             1.000000  0.454358     0.115811   \n",
            "Fever                      0.454358  1.000000     0.122996   \n",
            "Sore_throat                0.115811  0.122996     1.000000   \n",
            "Shortness_of_breath        0.106894  0.126220     0.196795   \n",
            "Headache                   0.116354  0.169104     0.323427   \n",
            "Corona                     0.195017  0.264012     0.275809   \n",
            "Age_60_above              -0.007416  0.016006     0.004217   \n",
            "Sex                        0.032879  0.033123    -0.016789   \n",
            "Known_contact             -0.319966 -0.146429     0.071675   \n",
            "month                      0.010843 -0.022718    -0.076299   \n",
            "\n",
            "                     Shortness_of_breath  Headache    Corona  Age_60_above  \\\n",
            "Cough_symptoms                  0.106894  0.116354  0.195017     -0.007416   \n",
            "Fever                           0.126220  0.169104  0.264012      0.016006   \n",
            "Sore_throat                     0.196795  0.323427  0.275809      0.004217   \n",
            "Shortness_of_breath             1.000000  0.201971  0.231174      0.024027   \n",
            "Headache                        0.201971  1.000000  0.364830      0.008460   \n",
            "Corona                          0.231174  0.364830  1.000000      0.046362   \n",
            "Age_60_above                    0.024027  0.008460  0.046362      1.000000   \n",
            "Sex                            -0.014012 -0.002419  0.022623     -0.016619   \n",
            "Known_contact                   0.049618  0.107978  0.280805      0.023749   \n",
            "month                          -0.083072 -0.080276 -0.085045     -0.083079   \n",
            "\n",
            "                          Sex  Known_contact     month  \n",
            "Cough_symptoms       0.032879      -0.319966  0.010843  \n",
            "Fever                0.033123      -0.146429 -0.022718  \n",
            "Sore_throat         -0.016789       0.071675 -0.076299  \n",
            "Shortness_of_breath -0.014012       0.049618 -0.083072  \n",
            "Headache            -0.002419       0.107978 -0.080276  \n",
            "Corona               0.022623       0.280805 -0.085045  \n",
            "Age_60_above        -0.016619       0.023749 -0.083079  \n",
            "Sex                  1.000000      -0.019427  0.085137  \n",
            "Known_contact       -0.019427       1.000000 -0.028102  \n",
            "month                0.085137      -0.028102  1.000000  \n"
          ]
        }
      ]
    },
    {
      "cell_type": "code",
      "source": [
        "import seaborn as sns\n",
        "import matplotlib.pyplot as plt\n",
        "\n",
        "plt.figure(figsize=(10, 8))\n",
        "sns.heatmap(correlation_matrix, annot=True, cmap='coolwarm', fmt=\".2f\")\n",
        "plt.title('Correlation Matrix')\n",
        "plt.show()"
      ],
      "metadata": {
        "colab": {
          "base_uri": "https://localhost:8080/",
          "height": 827
        },
        "id": "-sQ42l72rftQ",
        "outputId": "a9d21c03-d904-4507-dcad-05f1a3452153"
      },
      "execution_count": null,
      "outputs": [
        {
          "output_type": "display_data",
          "data": {
            "text/plain": [
              "<Figure size 1000x800 with 2 Axes>"
            ],
            "image/png": "[encoded data removed]"
          },
          "metadata": {}
        }
      ]
    },
    {
      "cell_type": "markdown",
      "source": [
        "Let's focus on correlations with an absolute value greater than 0.5, as they are considered relatively strong:\n",
        "\n",
        "Positive Correlations:\n",
        "\n",
        "'Cough_symptoms' and 'Fever': 0.498\n",
        "'Fever' and 'Corona': 0.394\n",
        "'Shortness_of_breath' and 'Corona': 0.284\n",
        "'Headache' and 'Corona': 0.449\n",
        "\n",
        "\n",
        "Negative Correlations:\n",
        "\n",
        "'Cough_symptoms' and 'Known_contact': -0.347\n",
        "These correlations suggest some potentially meaningful relationships in our data:\n",
        "\n",
        "People experiencing cough symptoms may have a higher likelihood of having a fever, which is also correlated with a positive test result for COVID-19 ('Corona').\n",
        "\n",
        "Shortness of breath and headache also show moderate positive correlations with a positive COVID-19 test result.\n",
        "\n",
        "There's a negative correlation between reporting cough symptoms and having a known contact with a confirmed case, which might indicate that individuals with known contacts are less likely to report symptoms like coughing.\n"
      ],
      "metadata": {
        "id": "0OMOWQXhrnmM"
      }
    },
    {
      "cell_type": "markdown",
      "source": [
        "# Undersampling the data"
      ],
      "metadata": {
        "id": "BhUoTrPms99O"
      }
    },
    {
      "cell_type": "code",
      "source": [
        "#  Visualize the data to identify patterns and correlations\n",
        "\n",
        "# Assuming 'Corona' is the correct column name\n",
        "plt.figure(figsize=(8, 6))\n",
        "sns.countplot(x='Corona', data=Covid_data, palette='viridis')\n",
        "\n",
        "# Add value counts on top of the bars\n",
        "for index, value in enumerate(Covid_data['Corona'].value_counts()):\n",
        "    plt.text(index, value + 5, str(value), ha='center', va='bottom')\n",
        "\n",
        "plt.title('Distribution of COVID-19 Cases')\n",
        "plt.xlabel('COVID-19 Diagnosis')\n",
        "plt.ylabel('Count')\n",
        "plt.show()"
      ],
      "metadata": {
        "colab": {
          "base_uri": "https://localhost:8080/",
          "height": 564
        },
        "id": "ra79nfqKsH3i",
        "outputId": "d198693d-bcfc-4806-e19a-feb645998c80"
      },
      "execution_count": null,
      "outputs": [
        {
          "output_type": "display_data",
          "data": {
            "text/plain": [
              "<Figure size 800x600 with 1 Axes>"
            ],
            "image/png": "[encoded data removed]"
          },
          "metadata": {}
        }
      ]
    },
    {
      "cell_type": "code",
      "source": [
        "Covid_data['Corona'].value_counts()\n"
      ],
      "metadata": {
        "colab": {
          "base_uri": "https://localhost:8080/"
        },
        "id": "3f3zPbtLuIbJ",
        "outputId": "43fd40af-62b6-4f05-a344-14d0178a3d48"
      },
      "execution_count": null,
      "outputs": [
        {
          "output_type": "execute_result",
          "data": {
            "text/plain": [
              "0    263900\n",
              "1     14694\n",
              "Name: Corona, dtype: int64"
            ]
          },
          "metadata": {},
          "execution_count": 198
        }
      ]
    },
    {
      "cell_type": "markdown",
      "source": [
        "Covid Positive Cases - 2,63900, Covid Negative Cases - 14694\n",
        "\n",
        "We decided to do Undersampling instead of Oversampling because -\n",
        "1. Data is abundent for Negative Cases.\n",
        "2. Increasing Positive Cases by oversampling would be an issue according to real world scenario."
      ],
      "metadata": {
        "id": "VP4zytQHuapG"
      }
    },
    {
      "cell_type": "code",
      "source": [
        "x = Covid_data.drop(columns = ['Corona'], axis = 1) # Independent Features\n",
        "y = Covid_data['Corona'] # Target Feature"
      ],
      "metadata": {
        "id": "N6SCMbZMuTz3"
      },
      "execution_count": null,
      "outputs": []
    },
    {
      "cell_type": "code",
      "source": [
        "# Undersampling Covid Negative Cases (Setting n(+ve cases) = 0.6 * n(-ve cases))\n",
        "from imblearn.under_sampling import RandomUnderSampler\n",
        "\n",
        "under = RandomUnderSampler(sampling_strategy = 0.6, random_state = 42)\n",
        "us_x, us_y = under.fit_resample(x, y)"
      ],
      "metadata": {
        "id": "tugqxV8AuzmX"
      },
      "execution_count": null,
      "outputs": []
    },
    {
      "cell_type": "code",
      "source": [
        "df = pd.DataFrame()\n",
        "df['Corona_result'] = ['Negative', 'Positive']\n",
        "df['Count'] = [len(us_y[us_y == 0]), len(us_y[us_y == 1])]\n",
        "df = df.sort_values(by=['Count'], ascending=False)\n",
        "\n",
        "# Plotting with matplotlib\n",
        "plt.bar(df['Corona_result'], df['Count'], color=['orange', 'purple'])\n",
        "plt.xlabel('Corona Result')\n",
        "plt.ylabel('Count')\n",
        "plt.title('Count of Corona Results')\n",
        "plt.show()\n"
      ],
      "metadata": {
        "colab": {
          "base_uri": "https://localhost:8080/",
          "height": 472
        },
        "id": "uwMmH8oixIrg",
        "outputId": "eb59a2ba-4edc-4a65-d53c-ae7802a33929"
      },
      "execution_count": null,
      "outputs": [
        {
          "output_type": "display_data",
          "data": {
            "text/plain": [
              "<Figure size 640x480 with 1 Axes>"
            ],
            "image/png": "[encoded data removed]"
          },
          "metadata": {}
        }
      ]
    },
    {
      "cell_type": "code",
      "source": [
        "us_x.head(3)\n"
      ],
      "metadata": {
        "colab": {
          "base_uri": "https://localhost:8080/",
          "height": 143
        },
        "id": "aO6oiq1Ywu6M",
        "outputId": "290b6db4-5566-4576-8acc-9ba3eb18cf08"
      },
      "execution_count": null,
      "outputs": [
        {
          "output_type": "execute_result",
          "data": {
            "text/plain": [
              "   Cough_symptoms  Fever  Sore_throat  Shortness_of_breath  Headache  \\\n",
              "0               0      0            0                    0         0   \n",
              "1               0      0            0                    0         0   \n",
              "2               0      0            0                    0         0   \n",
              "\n",
              "   Age_60_above  Sex  Known_contact  month  \n",
              "0             0    1              1      4  \n",
              "1             0    0              1      4  \n",
              "2             0    0              1      4  "
            ],
            "text/html": [
              "\n",
              "  <div id=\"df-1ba77568-225e-476a-8d2f-93709d5081c0\" class=\"colab-df-container\">\n",
              "    <div>\n",
              "<style scoped>\n",
              "    .dataframe tbody tr th:only-of-type {\n",
              "        vertical-align: middle;\n",
              "    }\n",
              "\n",
              "    .dataframe tbody tr th {\n",
              "        vertical-align: top;\n",
              "    }\n",
              "\n",
              "    .dataframe thead th {\n",
              "        text-align: right;\n",
              "    }\n",
              "</style>\n",
              "<table border=\"1\" class=\"dataframe\">\n",
              "  <thead>\n",
              "    <tr style=\"text-align: right;\">\n",
              "      <th></th>\n",
              "      <th>Cough_symptoms</th>\n",
              "      <th>Fever</th>\n",
              "      <th>Sore_throat</th>\n",
              "      <th>Shortness_of_breath</th>\n",
              "      <th>Headache</th>\n",
              "      <th>Age_60_above</th>\n",
              "      <th>Sex</th>\n",
              "      <th>Known_contact</th>\n",
              "      <th>month</th>\n",
              "    </tr>\n",
              "  </thead>\n",
              "  <tbody>\n",
              "    <tr>\n",
              "      <th>0</th>\n",
              "      <td>0</td>\n",
              "      <td>0</td>\n",
              "      <td>0</td>\n",
              "      <td>0</td>\n",
              "      <td>0</td>\n",
              "      <td>0</td>\n",
              "      <td>1</td>\n",
              "      <td>1</td>\n",
              "      <td>4</td>\n",
              "    </tr>\n",
              "    <tr>\n",
              "      <th>1</th>\n",
              "      <td>0</td>\n",
              "      <td>0</td>\n",
              "      <td>0</td>\n",
              "      <td>0</td>\n",
              "      <td>0</td>\n",
              "      <td>0</td>\n",
              "      <td>0</td>\n",
              "      <td>1</td>\n",
              "      <td>4</td>\n",
              "    </tr>\n",
              "    <tr>\n",
              "      <th>2</th>\n",
              "      <td>0</td>\n",
              "      <td>0</td>\n",
              "      <td>0</td>\n",
              "      <td>0</td>\n",
              "      <td>0</td>\n",
              "      <td>0</td>\n",
              "      <td>0</td>\n",
              "      <td>1</td>\n",
              "      <td>4</td>\n",
              "    </tr>\n",
              "  </tbody>\n",
              "</table>\n",
              "</div>\n",
              "    <div class=\"colab-df-buttons\">\n",
              "\n",
              "  <div class=\"colab-df-container\">\n",
              "    <button class=\"colab-df-convert\" onclick=\"convertToInteractive('df-1ba77568-225e-476a-8d2f-93709d5081c0')\"\n",
              "            title=\"Convert this dataframe to an interactive table.\"\n",
              "            style=\"display:none;\">\n",
              "\n",
              "  <svg xmlns=\"http://www.w3.org/2000/svg\" height=\"24px\" viewBox=\"0 -960 960 960\">\n",
              "    <path d=\"M120-120v-720h720v720H120Zm60-500h600v-160H180v160Zm220 220h160v-160H400v160Zm0 220h160v-160H400v160ZM180-400h160v-160H180v160Zm440 0h160v-160H620v160ZM180-180h160v-160H180v160Zm440 0h160v-160H620v160Z\"/>\n",
              "  </svg>\n",
              "    </button>\n",
              "\n",
              "  <style>\n",
              "    .colab-df-container {\n",
              "      display:flex;\n",
              "      gap: 12px;\n",
              "    }\n",
              "\n",
              "    .colab-df-convert {\n",
              "      background-color: #E8F0FE;\n",
              "      border: none;\n",
              "      border-radius: 50%;\n",
              "      cursor: pointer;\n",
              "      display: none;\n",
              "      fill: #1967D2;\n",
              "      height: 32px;\n",
              "      padding: 0 0 0 0;\n",
              "      width: 32px;\n",
              "    }\n",
              "\n",
              "    .colab-df-convert:hover {\n",
              "      background-color: #E2EBFA;\n",
              "      box-shadow: 0px 1px 2px rgba(60, 64, 67, 0.3), 0px 1px 3px 1px rgba(60, 64, 67, 0.15);\n",
              "      fill: #174EA6;\n",
              "    }\n",
              "\n",
              "    .colab-df-buttons div {\n",
              "      margin-bottom: 4px;\n",
              "    }\n",
              "\n",
              "    [theme=dark] .colab-df-convert {\n",
              "      background-color: #3B4455;\n",
              "      fill: #D2E3FC;\n",
              "    }\n",
              "\n",
              "    [theme=dark] .colab-df-convert:hover {\n",
              "      background-color: #434B5C;\n",
              "      box-shadow: 0px 1px 3px 1px rgba(0, 0, 0, 0.15);\n",
              "      filter: drop-shadow(0px 1px 2px rgba(0, 0, 0, 0.3));\n",
              "      fill: #FFFFFF;\n",
              "    }\n",
              "  </style>\n",
              "\n",
              "    <script>\n",
              "      const buttonEl =\n",
              "        document.querySelector('#df-1ba77568-225e-476a-8d2f-93709d5081c0 button.colab-df-convert');\n",
              "      buttonEl.style.display =\n",
              "        google.colab.kernel.accessAllowed ? 'block' : 'none';\n",
              "\n",
              "      async function convertToInteractive(key) {\n",
              "        const element = document.querySelector('#df-1ba77568-225e-476a-8d2f-93709d5081c0');\n",
              "        const dataTable =\n",
              "          await google.colab.kernel.invokeFunction('convertToInteractive',\n",
              "                                                    [key], {});\n",
              "        if (!dataTable) return;\n",
              "\n",
              "        const docLinkHtml = 'Like what you see? Visit the ' +\n",
              "          '<a target=\"_blank\" href=https://colab.research.google.com/notebooks/data_table.ipynb>data table notebook</a>'\n",
              "          + ' to learn more about interactive tables.';\n",
              "        element.innerHTML = '';\n",
              "        dataTable['output_type'] = 'display_data';\n",
              "        await google.colab.output.renderOutput(dataTable, element);\n",
              "        const docLink = document.createElement('div');\n",
              "        docLink.innerHTML = docLinkHtml;\n",
              "        element.appendChild(docLink);\n",
              "      }\n",
              "    </script>\n",
              "  </div>\n",
              "\n",
              "\n",
              "<div id=\"df-34cf2a1d-008f-47d7-b0bc-275f10a7ca9f\">\n",
              "  <button class=\"colab-df-quickchart\" onclick=\"quickchart('df-34cf2a1d-008f-47d7-b0bc-275f10a7ca9f')\"\n",
              "            title=\"Suggest charts\"\n",
              "            style=\"display:none;\">\n",
              "\n",
              "<svg xmlns=\"http://www.w3.org/2000/svg\" height=\"24px\"viewBox=\"0 0 24 24\"\n",
              "     width=\"24px\">\n",
              "    <g>\n",
              "        <path d=\"M19 3H5c-1.1 0-2 .9-2 2v14c0 1.1.9 2 2 2h14c1.1 0 2-.9 2-2V5c0-1.1-.9-2-2-2zM9 17H7v-7h2v7zm4 0h-2V7h2v10zm4 0h-2v-4h2v4z\"/>\n",
              "    </g>\n",
              "</svg>\n",
              "  </button>\n",
              "\n",
              "<style>\n",
              "  .colab-df-quickchart {\n",
              "      --bg-color: #E8F0FE;\n",
              "      --fill-color: #1967D2;\n",
              "      --hover-bg-color: #E2EBFA;\n",
              "      --hover-fill-color: #174EA6;\n",
              "      --disabled-fill-color: #AAA;\n",
              "      --disabled-bg-color: #DDD;\n",
              "  }\n",
              "\n",
              "  [theme=dark] .colab-df-quickchart {\n",
              "      --bg-color: #3B4455;\n",
              "      --fill-color: #D2E3FC;\n",
              "      --hover-bg-color: #434B5C;\n",
              "      --hover-fill-color: #FFFFFF;\n",
              "      --disabled-bg-color: #3B4455;\n",
              "      --disabled-fill-color: #666;\n",
              "  }\n",
              "\n",
              "  .colab-df-quickchart {\n",
              "    background-color: var(--bg-color);\n",
              "    border: none;\n",
              "    border-radius: 50%;\n",
              "    cursor: pointer;\n",
              "    display: none;\n",
              "    fill: var(--fill-color);\n",
              "    height: 32px;\n",
              "    padding: 0;\n",
              "    width: 32px;\n",
              "  }\n",
              "\n",
              "  .colab-df-quickchart:hover {\n",
              "    background-color: var(--hover-bg-color);\n",
              "    box-shadow: 0 1px 2px rgba(60, 64, 67, 0.3), 0 1px 3px 1px rgba(60, 64, 67, 0.15);\n",
              "    fill: var(--button-hover-fill-color);\n",
              "  }\n",
              "\n",
              "  .colab-df-quickchart-complete:disabled,\n",
              "  .colab-df-quickchart-complete:disabled:hover {\n",
              "    background-color: var(--disabled-bg-color);\n",
              "    fill: var(--disabled-fill-color);\n",
              "    box-shadow: none;\n",
              "  }\n",
              "\n",
              "  .colab-df-spinner {\n",
              "    border: 2px solid var(--fill-color);\n",
              "    border-color: transparent;\n",
              "    border-bottom-color: var(--fill-color);\n",
              "    animation:\n",
              "      spin 1s steps(1) infinite;\n",
              "  }\n",
              "\n",
              "  @keyframes spin {\n",
              "    0% {\n",
              "      border-color: transparent;\n",
              "      border-bottom-color: var(--fill-color);\n",
              "      border-left-color: var(--fill-color);\n",
              "    }\n",
              "    20% {\n",
              "      border-color: transparent;\n",
              "      border-left-color: var(--fill-color);\n",
              "      border-top-color: var(--fill-color);\n",
              "    }\n",
              "    30% {\n",
              "      border-color: transparent;\n",
              "      border-left-color: var(--fill-color);\n",
              "      border-top-color: var(--fill-color);\n",
              "      border-right-color: var(--fill-color);\n",
              "    }\n",
              "    40% {\n",
              "      border-color: transparent;\n",
              "      border-right-color: var(--fill-color);\n",
              "      border-top-color: var(--fill-color);\n",
              "    }\n",
              "    60% {\n",
              "      border-color: transparent;\n",
              "      border-right-color: var(--fill-color);\n",
              "    }\n",
              "    80% {\n",
              "      border-color: transparent;\n",
              "      border-right-color: var(--fill-color);\n",
              "      border-bottom-color: var(--fill-color);\n",
              "    }\n",
              "    90% {\n",
              "      border-color: transparent;\n",
              "      border-bottom-color: var(--fill-color);\n",
              "    }\n",
              "  }\n",
              "</style>\n",
              "\n",
              "  <script>\n",
              "    async function quickchart(key) {\n",
              "      const quickchartButtonEl =\n",
              "        document.querySelector('#' + key + ' button');\n",
              "      quickchartButtonEl.disabled = true;  // To prevent multiple clicks.\n",
              "      quickchartButtonEl.classList.add('colab-df-spinner');\n",
              "      try {\n",
              "        const charts = await google.colab.kernel.invokeFunction(\n",
              "            'suggestCharts', [key], {});\n",
              "      } catch (error) {\n",
              "        console.error('Error during call to suggestCharts:', error);\n",
              "      }\n",
              "      quickchartButtonEl.classList.remove('colab-df-spinner');\n",
              "      quickchartButtonEl.classList.add('colab-df-quickchart-complete');\n",
              "    }\n",
              "    (() => {\n",
              "      let quickchartButtonEl =\n",
              "        document.querySelector('#df-34cf2a1d-008f-47d7-b0bc-275f10a7ca9f button');\n",
              "      quickchartButtonEl.style.display =\n",
              "        google.colab.kernel.accessAllowed ? 'block' : 'none';\n",
              "    })();\n",
              "  </script>\n",
              "</div>\n",
              "\n",
              "    </div>\n",
              "  </div>\n"
            ]
          },
          "metadata": {},
          "execution_count": 202
        }
      ]
    },
    {
      "cell_type": "code",
      "source": [
        "us_y.value_counts()\n"
      ],
      "metadata": {
        "colab": {
          "base_uri": "https://localhost:8080/"
        },
        "id": "dqgmpT6RxVre",
        "outputId": "fc41700a-8551-4976-d307-a27e4c0715ba"
      },
      "execution_count": null,
      "outputs": [
        {
          "output_type": "execute_result",
          "data": {
            "text/plain": [
              "0    24490\n",
              "1    14694\n",
              "Name: Corona, dtype: int64"
            ]
          },
          "metadata": {},
          "execution_count": 203
        }
      ]
    },
    {
      "cell_type": "markdown",
      "source": [
        "# Feature Selection - Using Chi-Square Test\n"
      ],
      "metadata": {
        "id": "BbgKB29d0mA9"
      }
    },
    {
      "cell_type": "code",
      "source": [
        "from scipy.stats import chi2_contingency\n",
        "\n",
        "# 'Corona' is the target variable\n",
        "target_variable = 'Corona'\n",
        "\n",
        "# List of columns for chi-square tests (excluding 'month')\n",
        "columns_to_test = ['Cough_symptoms', 'Fever', 'Sore_throat', 'Shortness_of_breath', 'Headache','Age_60_above','Sex','Known_contact']\n",
        "\n",
        "# Empty list to store significant features\n",
        "significant_features = []\n",
        "\n",
        "# Loop through each column and perform chi-square test\n",
        "for column in columns_to_test:\n",
        "    contingency_table = pd.crosstab(Covid_data[column], Covid_data['Corona'])\n",
        "    chi2, p, _, _ = chi2_contingency(contingency_table)\n",
        "\n",
        "    # Assuming a significance level of 0.05\n",
        "    if p < 0.05:\n",
        "        significant_features.append(column)\n",
        "\n",
        "# Display the significant features\n",
        "print(\"Significant Features:\", significant_features)"
      ],
      "metadata": {
        "colab": {
          "base_uri": "https://localhost:8080/"
        },
        "id": "908C_7c90nQF",
        "outputId": "7cae9673-bb94-4b9e-92c4-3e17ac79c3bd"
      },
      "execution_count": null,
      "outputs": [
        {
          "output_type": "stream",
          "name": "stdout",
          "text": [
            "Significant Features: ['Cough_symptoms', 'Fever', 'Sore_throat', 'Shortness_of_breath', 'Headache', 'Age_60_above', 'Sex', 'Known_contact']\n"
          ]
        }
      ]
    },
    {
      "cell_type": "markdown",
      "source": [
        "# Selected Features\n",
        "\n",
        "\n",
        "The following are the features we'll use to predict our target variable (Covid19 Positive or Negative):\n",
        "\n",
        "\n",
        "Cough_symptoms : ['TRUE','FALSE']\n",
        "\n",
        "Fever : ['FALSE','TRUE']\n",
        "\n",
        "Sore_throat : ['TRUE','FALSE']\n",
        "\n",
        "Shortness_of_breath : ['FALSE','TRUE']\n",
        "\n",
        "Headache : ['FALSE','TRUE']\n",
        "\n",
        "Age_60_above : ['Yes','No']\n",
        "\n",
        "Sex : ['Male' , 'Female']\n",
        "\n",
        "Known_contact : ['Abroad','Contact with confirmed','Other']\n",
        "\n",
        "Corona(Target Variable) : ['negative','positive','other']"
      ],
      "metadata": {
        "id": "v3oFAWOu1AjX"
      }
    },
    {
      "cell_type": "markdown",
      "source": [
        "# Train-Test Split"
      ],
      "metadata": {
        "id": "WbdJ7qd40TbI"
      }
    },
    {
      "cell_type": "code",
      "source": [
        "# Setting Train:Test ratio as 70:30\n",
        "\n",
        "from sklearn.model_selection import train_test_split\n",
        "\n",
        "X_train, X_test, Y_train, Y_test = train_test_split(us_x, us_y, test_size = 0.3, random_state = 42)\n",
        "\n",
        "print(X_train.shape)\n",
        "print(X_test.shape)\n",
        "print(Y_train.shape)\n",
        "print(Y_test.shape)\n"
      ],
      "metadata": {
        "colab": {
          "base_uri": "https://localhost:8080/"
        },
        "id": "Ua9dJcYGzOl2",
        "outputId": "fb87486c-f39f-46b2-e37a-5f399315b040"
      },
      "execution_count": null,
      "outputs": [
        {
          "output_type": "stream",
          "name": "stdout",
          "text": [
            "(27428, 9)\n",
            "(11756, 9)\n",
            "(27428,)\n",
            "(11756,)\n"
          ]
        }
      ]
    },
    {
      "cell_type": "markdown",
      "source": [
        "## Machine Learning Algorithms\n",
        "\n"
      ],
      "metadata": {
        "id": "4Undn4w54s6e"
      }
    },
    {
      "cell_type": "markdown",
      "source": [
        "Logistic Regression"
      ],
      "metadata": {
        "id": "zCy4cOgy8sGm"
      }
    },
    {
      "cell_type": "code",
      "source": [
        "from sklearn.linear_model import LogisticRegression\n",
        "from sklearn.metrics import accuracy_score, classification_report\n",
        "\n",
        "# Initialize the Logistic Regression model\n",
        "model = LogisticRegression(random_state=42)\n",
        "\n",
        "# Train the model on the training set\n",
        "model.fit(X_train, Y_train)\n",
        "\n",
        "# Make predictions on the test set\n",
        "y_test_pred = model.predict(X_test)\n",
        "\n",
        "# Evaluate the model on the test set\n",
        "accuracy = accuracy_score(Y_test, y_test_pred)\n",
        "classification_report_test = classification_report(Y_test, y_test_pred)\n",
        "\n",
        "# Print results\n",
        "print(\"Logistic Regression Model Results:\")\n",
        "print(f\"Accuracy on Test Set: {accuracy:.2f}\")\n",
        "print(\"\\nClassification Report on Test Set:\")\n",
        "print(classification_report_test)\n"
      ],
      "metadata": {
        "colab": {
          "base_uri": "https://localhost:8080/"
        },
        "id": "W6BzDZGR4sbB",
        "outputId": "97d6b0dc-dac0-4264-ee25-a0c9d1b7b106"
      },
      "execution_count": null,
      "outputs": [
        {
          "output_type": "stream",
          "name": "stdout",
          "text": [
            "Logistic Regression Model Results:\n",
            "Accuracy on Test Set: 0.86\n",
            "\n",
            "Classification Report on Test Set:\n",
            "              precision    recall  f1-score   support\n",
            "\n",
            "           0       0.85      0.95      0.90      7314\n",
            "           1       0.90      0.72      0.80      4442\n",
            "\n",
            "    accuracy                           0.86     11756\n",
            "   macro avg       0.87      0.83      0.85     11756\n",
            "weighted avg       0.87      0.86      0.86     11756\n",
            "\n"
          ]
        }
      ]
    },
    {
      "cell_type": "markdown",
      "source": [
        "Random Forest"
      ],
      "metadata": {
        "id": "7MffQxts8yjt"
      }
    },
    {
      "cell_type": "code",
      "source": [
        "from sklearn.ensemble import RandomForestClassifier\n",
        "from sklearn.metrics import accuracy_score, classification_report\n",
        "\n",
        "# Initialize the Random Forest model\n",
        "rf_model = RandomForestClassifier(random_state=42)\n",
        "\n",
        "# Train the model on the training set\n",
        "rf_model.fit(X_train, Y_train)\n",
        "\n",
        "# Make predictions on the test set\n",
        "y_test_pred = rf_model.predict(X_test)\n",
        "\n",
        "# Evaluate the model on the test set\n",
        "accuracy_test = accuracy_score(Y_test, y_test_pred)\n",
        "classification_report_test = classification_report(Y_test, y_test_pred)\n",
        "\n",
        "# Print results for test set\n",
        "print(\"Random Forest Model Results on Test Set:\")\n",
        "print(f\"Accuracy: {accuracy_test:.2f}\")\n",
        "print(\"Classification Report:\")\n",
        "print(classification_report_test)\n"
      ],
      "metadata": {
        "id": "KwDCWpDX7CJf",
        "colab": {
          "base_uri": "https://localhost:8080/"
        },
        "outputId": "ddda97eb-6bc9-4012-a6db-0987cf65529a"
      },
      "execution_count": null,
      "outputs": [
        {
          "output_type": "stream",
          "name": "stdout",
          "text": [
            "Random Forest Model Results on Test Set:\n",
            "Accuracy: 0.88\n",
            "Classification Report:\n",
            "              precision    recall  f1-score   support\n",
            "\n",
            "           0       0.86      0.95      0.91      7314\n",
            "           1       0.91      0.75      0.82      4442\n",
            "\n",
            "    accuracy                           0.88     11756\n",
            "   macro avg       0.89      0.85      0.86     11756\n",
            "weighted avg       0.88      0.88      0.87     11756\n",
            "\n"
          ]
        }
      ]
    },
    {
      "cell_type": "markdown",
      "source": [
        "KNN"
      ],
      "metadata": {
        "id": "1Im7WhRy83u2"
      }
    },
    {
      "cell_type": "code",
      "source": [
        "from sklearn.neighbors import KNeighborsClassifier\n",
        "from sklearn.metrics import accuracy_score, classification_report\n",
        "\n",
        "# Initialize the KNN model with k=5 (you can adjust k as needed)\n",
        "knn_model = KNeighborsClassifier(n_neighbors=5)\n",
        "\n",
        "# Train the model on the training set\n",
        "knn_model.fit(X_train, Y_train)\n",
        "\n",
        "# Make predictions on the test set\n",
        "y_test_pred = knn_model.predict(X_test)\n",
        "\n",
        "# Evaluate the model on the test set\n",
        "accuracy_test = accuracy_score(Y_test, y_test_pred)\n",
        "classification_report_test = classification_report(Y_test, y_test_pred)\n",
        "\n",
        "# Print results for the test set\n",
        "print(\"KNN Model Results on Test Set:\")\n",
        "print(f\"Accuracy: {accuracy_test:.2f}\")\n",
        "print(\"Classification Report:\")\n",
        "print(classification_report_test)\n"
      ],
      "metadata": {
        "id": "AQwKhgK27MfA",
        "colab": {
          "base_uri": "https://localhost:8080/"
        },
        "outputId": "5ec3688d-d1a7-4a84-dcd3-ee415356817e"
      },
      "execution_count": null,
      "outputs": [
        {
          "output_type": "stream",
          "name": "stdout",
          "text": [
            "KNN Model Results on Test Set:\n",
            "Accuracy: 0.86\n",
            "Classification Report:\n",
            "              precision    recall  f1-score   support\n",
            "\n",
            "           0       0.86      0.93      0.89      7314\n",
            "           1       0.87      0.75      0.81      4442\n",
            "\n",
            "    accuracy                           0.86     11756\n",
            "   macro avg       0.86      0.84      0.85     11756\n",
            "weighted avg       0.86      0.86      0.86     11756\n",
            "\n"
          ]
        }
      ]
    },
    {
      "cell_type": "markdown",
      "source": [
        "GradientBoost`\n",
        "\n"
      ],
      "metadata": {
        "id": "stzYzq2g86sr"
      }
    },
    {
      "cell_type": "code",
      "source": [
        "from sklearn.ensemble import GradientBoostingClassifier\n",
        "from sklearn.metrics import accuracy_score, classification_report\n",
        "\n",
        "# Initialize the Gradient Boosting model\n",
        "gb_model = GradientBoostingClassifier(random_state=42)\n",
        "\n",
        "# Train the model on the training set\n",
        "gb_model.fit(X_train, Y_train)\n",
        "\n",
        "# Make predictions on the test set\n",
        "y_test_pred = gb_model.predict(X_test)\n",
        "\n",
        "# Evaluate the model on the test set\n",
        "accuracy_test = accuracy_score(Y_test, y_test_pred)\n",
        "classification_report_test = classification_report(Y_test, y_test_pred)\n",
        "\n",
        "# Print results for the test set\n",
        "print(\"Gradient Boosting Model Results on Test Set:\")\n",
        "print(f\"Accuracy: {accuracy_test:.2f}\")\n",
        "print(\"Classification Report:\")\n",
        "print(classification_report_test)\n"
      ],
      "metadata": {
        "id": "N7q9GnyI7Y6S",
        "colab": {
          "base_uri": "https://localhost:8080/"
        },
        "outputId": "63af8805-4a0d-4fd4-9593-4f1cc758541a"
      },
      "execution_count": null,
      "outputs": [
        {
          "output_type": "stream",
          "name": "stdout",
          "text": [
            "Gradient Boosting Model Results on Test Set:\n",
            "Accuracy: 0.87\n",
            "Classification Report:\n",
            "              precision    recall  f1-score   support\n",
            "\n",
            "           0       0.86      0.96      0.91      7314\n",
            "           1       0.92      0.73      0.82      4442\n",
            "\n",
            "    accuracy                           0.87     11756\n",
            "   macro avg       0.89      0.85      0.86     11756\n",
            "weighted avg       0.88      0.87      0.87     11756\n",
            "\n"
          ]
        }
      ]
    },
    {
      "cell_type": "markdown",
      "source": [
        "Decision Tree"
      ],
      "metadata": {
        "id": "bifTgIIL9CHZ"
      }
    },
    {
      "cell_type": "code",
      "source": [
        "import plotly.express as px\n",
        "\n",
        "fig = px.bar(\n",
        "    x=['Logistic_Regression', 'Random_Forest', 'K-Nearest_neighbour','GradientBoost'],\n",
        "    y=[0.86, 0.88, 0.86, 0.87],\n",
        "    text=[0.86, 0.88, 0.86, 0.87],\n",
        "    labels={'x': 'Machine_Learning_Algorithms', 'y': 'Accuracy (%)'},\n",
        "    title='Accuracy Percentage of Machine Learning Algorithms',\n",
        "    color=['Logistic_Regression', 'Random_Forest', 'K-Nearest_neighbour','GradientBoost'],\n",
        "    color_discrete_sequence=['lightgreen', 'grey', 'yellow', 'lightblue']\n",
        ")\n",
        "\n",
        "fig.show()"
      ],
      "metadata": {
        "id": "yjwZtsas8mgo",
        "colab": {
          "base_uri": "https://localhost:8080/",
          "height": 542
        },
        "outputId": "e53a1ac6-e85d-40c4-a78a-9b2ddddaddd5"
      },
      "execution_count": null,
      "outputs": [
        {
          "output_type": "display_data",
          "data": {
            "text/html": [
              "<html>\n",
              "<head><meta charset=\"utf-8\" /></head>\n",
              "<body>\n",
              "    <div>            <script src=\"https://cdnjs.cloudflare.com/ajax/libs/mathjax/2.7.5/MathJax.js?config=TeX-AMS-MML_SVG\"></script><script type=\"text/javascript\">if (window.MathJax && window.MathJax.Hub && window.MathJax.Hub.Config) {window.MathJax.Hub.Config({SVG: {font: \"STIX-Web\"}});}</script>                <script type=\"text/javascript\">window.PlotlyConfig = {MathJaxConfig: 'local'};</script>\n",
              "        <script charset=\"utf-8\" src=\"https://cdn.plot.ly/plotly-2.24.1.min.js\"></script>                <div id=\"1a0d8c43-701d-4515-b5a7-b1ab6bf830fd\" class=\"plotly-graph-div\" style=\"height:525px; width:100%;\"></div>            <script type=\"text/javascript\">                                    window.PLOTLYENV=window.PLOTLYENV || {};                                    if (document.getElementById(\"1a0d8c43-701d-4515-b5a7-b1ab6bf830fd\")) {                    Plotly.newPlot(                        \"1a0d8c43-701d-4515-b5a7-b1ab6bf830fd\",                        [{\"alignmentgroup\":\"True\",\"hovertemplate\":\"color=Logistic_Regression\\u003cbr\\u003eMachine_Learning_Algorithms=%{x}\\u003cbr\\u003eAccuracy (%)=%{y}\\u003cbr\\u003etext=%{text}\\u003cextra\\u003e\\u003c\\u002fextra\\u003e\",\"legendgroup\":\"Logistic_Regression\",\"marker\":{\"color\":\"lightgreen\",\"pattern\":{\"shape\":\"\"}},\"name\":\"Logistic_Regression\",\"offsetgroup\":\"Logistic_Regression\",\"orientation\":\"v\",\"showlegend\":true,\"text\":[0.86],\"textposition\":\"auto\",\"x\":[\"Logistic_Regression\"],\"xaxis\":\"x\",\"y\":[0.86],\"yaxis\":\"y\",\"type\":\"bar\"},{\"alignmentgroup\":\"True\",\"hovertemplate\":\"color=Random_Forest\\u003cbr\\u003eMachine_Learning_Algorithms=%{x}\\u003cbr\\u003eAccuracy (%)=%{y}\\u003cbr\\u003etext=%{text}\\u003cextra\\u003e\\u003c\\u002fextra\\u003e\",\"legendgroup\":\"Random_Forest\",\"marker\":{\"color\":\"grey\",\"pattern\":{\"shape\":\"\"}},\"name\":\"Random_Forest\",\"offsetgroup\":\"Random_Forest\",\"orientation\":\"v\",\"showlegend\":true,\"text\":[0.88],\"textposition\":\"auto\",\"x\":[\"Random_Forest\"],\"xaxis\":\"x\",\"y\":[0.88],\"yaxis\":\"y\",\"type\":\"bar\"},{\"alignmentgroup\":\"True\",\"hovertemplate\":\"color=K-Nearest_neighbour\\u003cbr\\u003eMachine_Learning_Algorithms=%{x}\\u003cbr\\u003eAccuracy (%)=%{y}\\u003cbr\\u003etext=%{text}\\u003cextra\\u003e\\u003c\\u002fextra\\u003e\",\"legendgroup\":\"K-Nearest_neighbour\",\"marker\":{\"color\":\"yellow\",\"pattern\":{\"shape\":\"\"}},\"name\":\"K-Nearest_neighbour\",\"offsetgroup\":\"K-Nearest_neighbour\",\"orientation\":\"v\",\"showlegend\":true,\"text\":[0.86],\"textposition\":\"auto\",\"x\":[\"K-Nearest_neighbour\"],\"xaxis\":\"x\",\"y\":[0.86],\"yaxis\":\"y\",\"type\":\"bar\"},{\"alignmentgroup\":\"True\",\"hovertemplate\":\"color=GradientBoost\\u003cbr\\u003eMachine_Learning_Algorithms=%{x}\\u003cbr\\u003eAccuracy (%)=%{y}\\u003cbr\\u003etext=%{text}\\u003cextra\\u003e\\u003c\\u002fextra\\u003e\",\"legendgroup\":\"GradientBoost\",\"marker\":{\"color\":\"lightblue\",\"pattern\":{\"shape\":\"\"}},\"name\":\"GradientBoost\",\"offsetgroup\":\"GradientBoost\",\"orientation\":\"v\",\"showlegend\":true,\"text\":[0.87],\"textposition\":\"auto\",\"x\":[\"GradientBoost\"],\"xaxis\":\"x\",\"y\":[0.87],\"yaxis\":\"y\",\"type\":\"bar\"}],                        {\"template\":{\"data\":{\"histogram2dcontour\":[{\"type\":\"histogram2dcontour\",\"colorbar\":{\"outlinewidth\":0,\"ticks\":\"\"},\"colorscale\":[[0.0,\"#0d0887\"],[0.1111111111111111,\"#46039f\"],[0.2222222222222222,\"#7201a8\"],[0.3333333333333333,\"#9c179e\"],[0.4444444444444444,\"#bd3786\"],[0.5555555555555556,\"#d8576b\"],[0.6666666666666666,\"#ed7953\"],[0.7777777777777778,\"#fb9f3a\"],[0.8888888888888888,\"#fdca26\"],[1.0,\"#f0f921\"]]}],\"choropleth\":[{\"type\":\"choropleth\",\"colorbar\":{\"outlinewidth\":0,\"ticks\":\"\"}}],\"histogram2d\":[{\"type\":\"histogram2d\",\"colorbar\":{\"outlinewidth\":0,\"ticks\":\"\"},\"colorscale\":[[0.0,\"#0d0887\"],[0.1111111111111111,\"#46039f\"],[0.2222222222222222,\"#7201a8\"],[0.3333333333333333,\"#9c179e\"],[0.4444444444444444,\"#bd3786\"],[0.5555555555555556,\"#d8576b\"],[0.6666666666666666,\"#ed7953\"],[0.7777777777777778,\"#fb9f3a\"],[0.8888888888888888,\"#fdca26\"],[1.0,\"#f0f921\"]]}],\"heatmap\":[{\"type\":\"heatmap\",\"colorbar\":{\"outlinewidth\":0,\"ticks\":\"\"},\"colorscale\":[[0.0,\"#0d0887\"],[0.1111111111111111,\"#46039f\"],[0.2222222222222222,\"#7201a8\"],[0.3333333333333333,\"#9c179e\"],[0.4444444444444444,\"#bd3786\"],[0.5555555555555556,\"#d8576b\"],[0.6666666666666666,\"#ed7953\"],[0.7777777777777778,\"#fb9f3a\"],[0.8888888888888888,\"#fdca26\"],[1.0,\"#f0f921\"]]}],\"heatmapgl\":[{\"type\":\"heatmapgl\",\"colorbar\":{\"outlinewidth\":0,\"ticks\":\"\"},\"colorscale\":[[0.0,\"#0d0887\"],[0.1111111111111111,\"#46039f\"],[0.2222222222222222,\"#7201a8\"],[0.3333333333333333,\"#9c179e\"],[0.4444444444444444,\"#bd3786\"],[0.5555555555555556,\"#d8576b\"],[0.6666666666666666,\"#ed7953\"],[0.7777777777777778,\"#fb9f3a\"],[0.8888888888888888,\"#fdca26\"],[1.0,\"#f0f921\"]]}],\"contourcarpet\":[{\"type\":\"contourcarpet\",\"colorbar\":{\"outlinewidth\":0,\"ticks\":\"\"}}],\"contour\":[{\"type\":\"contour\",\"colorbar\":{\"outlinewidth\":0,\"ticks\":\"\"},\"colorscale\":[[0.0,\"#0d0887\"],[0.1111111111111111,\"#46039f\"],[0.2222222222222222,\"#7201a8\"],[0.3333333333333333,\"#9c179e\"],[0.4444444444444444,\"#bd3786\"],[0.5555555555555556,\"#d8576b\"],[0.6666666666666666,\"#ed7953\"],[0.7777777777777778,\"#fb9f3a\"],[0.8888888888888888,\"#fdca26\"],[1.0,\"#f0f921\"]]}],\"surface\":[{\"type\":\"surface\",\"colorbar\":{\"outlinewidth\":0,\"ticks\":\"\"},\"colorscale\":[[0.0,\"#0d0887\"],[0.1111111111111111,\"#46039f\"],[0.2222222222222222,\"#7201a8\"],[0.3333333333333333,\"#9c179e\"],[0.4444444444444444,\"#bd3786\"],[0.5555555555555556,\"#d8576b\"],[0.6666666666666666,\"#ed7953\"],[0.7777777777777778,\"#fb9f3a\"],[0.8888888888888888,\"#fdca26\"],[1.0,\"#f0f921\"]]}],\"mesh3d\":[{\"type\":\"mesh3d\",\"colorbar\":{\"outlinewidth\":0,\"ticks\":\"\"}}],\"scatter\":[{\"fillpattern\":{\"fillmode\":\"overlay\",\"size\":10,\"solidity\":0.2},\"type\":\"scatter\"}],\"parcoords\":[{\"type\":\"parcoords\",\"line\":{\"colorbar\":{\"outlinewidth\":0,\"ticks\":\"\"}}}],\"scatterpolargl\":[{\"type\":\"scatterpolargl\",\"marker\":{\"colorbar\":{\"outlinewidth\":0,\"ticks\":\"\"}}}],\"bar\":[{\"error_x\":{\"color\":\"#2a3f5f\"},\"error_y\":{\"color\":\"#2a3f5f\"},\"marker\":{\"line\":{\"color\":\"#E5ECF6\",\"width\":0.5},\"pattern\":{\"fillmode\":\"overlay\",\"size\":10,\"solidity\":0.2}},\"type\":\"bar\"}],\"scattergeo\":[{\"type\":\"scattergeo\",\"marker\":{\"colorbar\":{\"outlinewidth\":0,\"ticks\":\"\"}}}],\"scatterpolar\":[{\"type\":\"scatterpolar\",\"marker\":{\"colorbar\":{\"outlinewidth\":0,\"ticks\":\"\"}}}],\"histogram\":[{\"marker\":{\"pattern\":{\"fillmode\":\"overlay\",\"size\":10,\"solidity\":0.2}},\"type\":\"histogram\"}],\"scattergl\":[{\"type\":\"scattergl\",\"marker\":{\"colorbar\":{\"outlinewidth\":0,\"ticks\":\"\"}}}],\"scatter3d\":[{\"type\":\"scatter3d\",\"line\":{\"colorbar\":{\"outlinewidth\":0,\"ticks\":\"\"}},\"marker\":{\"colorbar\":{\"outlinewidth\":0,\"ticks\":\"\"}}}],\"scattermapbox\":[{\"type\":\"scattermapbox\",\"marker\":{\"colorbar\":{\"outlinewidth\":0,\"ticks\":\"\"}}}],\"scatterternary\":[{\"type\":\"scatterternary\",\"marker\":{\"colorbar\":{\"outlinewidth\":0,\"ticks\":\"\"}}}],\"scattercarpet\":[{\"type\":\"scattercarpet\",\"marker\":{\"colorbar\":{\"outlinewidth\":0,\"ticks\":\"\"}}}],\"carpet\":[{\"aaxis\":{\"endlinecolor\":\"#2a3f5f\",\"gridcolor\":\"white\",\"linecolor\":\"white\",\"minorgridcolor\":\"white\",\"startlinecolor\":\"#2a3f5f\"},\"baxis\":{\"endlinecolor\":\"#2a3f5f\",\"gridcolor\":\"white\",\"linecolor\":\"white\",\"minorgridcolor\":\"white\",\"startlinecolor\":\"#2a3f5f\"},\"type\":\"carpet\"}],\"table\":[{\"cells\":{\"fill\":{\"color\":\"#EBF0F8\"},\"line\":{\"color\":\"white\"}},\"header\":{\"fill\":{\"color\":\"#C8D4E3\"},\"line\":{\"color\":\"white\"}},\"type\":\"table\"}],\"barpolar\":[{\"marker\":{\"line\":{\"color\":\"#E5ECF6\",\"width\":0.5},\"pattern\":{\"fillmode\":\"overlay\",\"size\":10,\"solidity\":0.2}},\"type\":\"barpolar\"}],\"pie\":[{\"automargin\":true,\"type\":\"pie\"}]},\"layout\":{\"autotypenumbers\":\"strict\",\"colorway\":[\"#636efa\",\"#EF553B\",\"#00cc96\",\"#ab63fa\",\"#FFA15A\",\"#19d3f3\",\"#FF6692\",\"#B6E880\",\"#FF97FF\",\"#FECB52\"],\"font\":{\"color\":\"#2a3f5f\"},\"hovermode\":\"closest\",\"hoverlabel\":{\"align\":\"left\"},\"paper_bgcolor\":\"white\",\"plot_bgcolor\":\"#E5ECF6\",\"polar\":{\"bgcolor\":\"#E5ECF6\",\"angularaxis\":{\"gridcolor\":\"white\",\"linecolor\":\"white\",\"ticks\":\"\"},\"radialaxis\":{\"gridcolor\":\"white\",\"linecolor\":\"white\",\"ticks\":\"\"}},\"ternary\":{\"bgcolor\":\"#E5ECF6\",\"aaxis\":{\"gridcolor\":\"white\",\"linecolor\":\"white\",\"ticks\":\"\"},\"baxis\":{\"gridcolor\":\"white\",\"linecolor\":\"white\",\"ticks\":\"\"},\"caxis\":{\"gridcolor\":\"white\",\"linecolor\":\"white\",\"ticks\":\"\"}},\"coloraxis\":{\"colorbar\":{\"outlinewidth\":0,\"ticks\":\"\"}},\"colorscale\":{\"sequential\":[[0.0,\"#0d0887\"],[0.1111111111111111,\"#46039f\"],[0.2222222222222222,\"#7201a8\"],[0.3333333333333333,\"#9c179e\"],[0.4444444444444444,\"#bd3786\"],[0.5555555555555556,\"#d8576b\"],[0.6666666666666666,\"#ed7953\"],[0.7777777777777778,\"#fb9f3a\"],[0.8888888888888888,\"#fdca26\"],[1.0,\"#f0f921\"]],\"sequentialminus\":[[0.0,\"#0d0887\"],[0.1111111111111111,\"#46039f\"],[0.2222222222222222,\"#7201a8\"],[0.3333333333333333,\"#9c179e\"],[0.4444444444444444,\"#bd3786\"],[0.5555555555555556,\"#d8576b\"],[0.6666666666666666,\"#ed7953\"],[0.7777777777777778,\"#fb9f3a\"],[0.8888888888888888,\"#fdca26\"],[1.0,\"#f0f921\"]],\"diverging\":[[0,\"#8e0152\"],[0.1,\"#c51b7d\"],[0.2,\"#de77ae\"],[0.3,\"#f1b6da\"],[0.4,\"#fde0ef\"],[0.5,\"#f7f7f7\"],[0.6,\"#e6f5d0\"],[0.7,\"#b8e186\"],[0.8,\"#7fbc41\"],[0.9,\"#4d9221\"],[1,\"#276419\"]]},\"xaxis\":{\"gridcolor\":\"white\",\"linecolor\":\"white\",\"ticks\":\"\",\"title\":{\"standoff\":15},\"zerolinecolor\":\"white\",\"automargin\":true,\"zerolinewidth\":2},\"yaxis\":{\"gridcolor\":\"white\",\"linecolor\":\"white\",\"ticks\":\"\",\"title\":{\"standoff\":15},\"zerolinecolor\":\"white\",\"automargin\":true,\"zerolinewidth\":2},\"scene\":{\"xaxis\":{\"backgroundcolor\":\"#E5ECF6\",\"gridcolor\":\"white\",\"linecolor\":\"white\",\"showbackground\":true,\"ticks\":\"\",\"zerolinecolor\":\"white\",\"gridwidth\":2},\"yaxis\":{\"backgroundcolor\":\"#E5ECF6\",\"gridcolor\":\"white\",\"linecolor\":\"white\",\"showbackground\":true,\"ticks\":\"\",\"zerolinecolor\":\"white\",\"gridwidth\":2},\"zaxis\":{\"backgroundcolor\":\"#E5ECF6\",\"gridcolor\":\"white\",\"linecolor\":\"white\",\"showbackground\":true,\"ticks\":\"\",\"zerolinecolor\":\"white\",\"gridwidth\":2}},\"shapedefaults\":{\"line\":{\"color\":\"#2a3f5f\"}},\"annotationdefaults\":{\"arrowcolor\":\"#2a3f5f\",\"arrowhead\":0,\"arrowwidth\":1},\"geo\":{\"bgcolor\":\"white\",\"landcolor\":\"#E5ECF6\",\"subunitcolor\":\"white\",\"showland\":true,\"showlakes\":true,\"lakecolor\":\"white\"},\"title\":{\"x\":0.05},\"mapbox\":{\"style\":\"light\"}}},\"xaxis\":{\"anchor\":\"y\",\"domain\":[0.0,1.0],\"title\":{\"text\":\"Machine_Learning_Algorithms\"}},\"yaxis\":{\"anchor\":\"x\",\"domain\":[0.0,1.0],\"title\":{\"text\":\"Accuracy (%)\"}},\"legend\":{\"title\":{\"text\":\"color\"},\"tracegroupgap\":0},\"title\":{\"text\":\"Accuracy Percentage of Machine Learning Algorithms\"},\"barmode\":\"relative\"},                        {\"responsive\": true}                    ).then(function(){\n",
              "                            \n",
              "var gd = document.getElementById('1a0d8c43-701d-4515-b5a7-b1ab6bf830fd');\n",
              "var x = new MutationObserver(function (mutations, observer) {{\n",
              "        var display = window.getComputedStyle(gd).display;\n",
              "        if (!display || display === 'none') {{\n",
              "            console.log([gd, 'removed!']);\n",
              "            Plotly.purge(gd);\n",
              "            observer.disconnect();\n",
              "        }}\n",
              "}});\n",
              "\n",
              "// Listen for the removal of the full notebook cells\n",
              "var notebookContainer = gd.closest('#notebook-container');\n",
              "if (notebookContainer) {{\n",
              "    x.observe(notebookContainer, {childList: true});\n",
              "}}\n",
              "\n",
              "// Listen for the clearing of the current output cell\n",
              "var outputEl = gd.closest('.output');\n",
              "if (outputEl) {{\n",
              "    x.observe(outputEl, {childList: true});\n",
              "}}\n",
              "\n",
              "                        })                };                            </script>        </div>\n",
              "</body>\n",
              "</html>"
            ]
          },
          "metadata": {}
        }
      ]
    },
    {
      "cell_type": "code",
      "source": [],
      "metadata": {
        "id": "853BkmKW-b7w"
      },
      "execution_count": null,
      "outputs": []
    },
    {
      "cell_type": "markdown",
      "source": [
        "#Conclusion\n",
        "\n",
        "1) The Random Foret model has achieved highest accuracy  0.88%.\n",
        "\n",
        "2)There's a positive correlation between symptoms like cough, fever, shortness\n",
        "  of breath, and headache with a positive test result for COVID-19.\n",
        "\n",
        "3) Specifically, cough symptoms seem to be strongly correlated with fever, and\n",
        "   both are moderately correlated with a positive COVID-19 test result. This indicates that the presence of cough and fever may be indicative of COVID-19 infection.\n",
        "\n",
        "4) There's a negative correlation between reporting cough symptoms and having a\n",
        "  known contact with a confirmed COVID-19 case. This suggests that individuals with known contacts are less likely to report symptoms like coughing.\n",
        "\n"
      ],
      "metadata": {
        "id": "5jK1o81wJW8d"
      }
    },
    {
      "cell_type": "markdown",
      "source": [
        "# What Next?\n",
        "\n",
        "A good next step would be to discuss with our team or research on our own different options of going forward.\n",
        "\n",
        "Could we collect more data based on the most important features?\n",
        "\n",
        "Could we try some more models?\n",
        "\n",
        "Could you improve the current models (beyond what we've done so far)?\n",
        "\n",
        "The key here is to remember, our biggest restriction will be time. Hence, it's paramount to minimise the time between experiments.\n",
        "\n",
        "The more we try, the more we figure out what doesn't work, the more we'll start to get a hang of what works."
      ],
      "metadata": {
        "id": "7qM96BbNJpcc"
      }
    }
  ],
  "metadata": {
    "colab": {
      "provenance": [],
      "include_colab_link": true
    },
    "kernelspec": {
      "display_name": "Python 3",
      "name": "python3"
    },
    "language_info": {
      "name": "python"
    }
  },
  "nbformat": 4,
  "nbformat_minor": 0
}